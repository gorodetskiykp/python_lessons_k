{
 "cells": [
  {
   "cell_type": "code",
   "execution_count": 6,
   "metadata": {},
   "outputs": [
    {
     "name": "stdout",
     "output_type": "stream",
     "text": [
      "96.44698400000001\n"
     ]
    }
   ],
   "source": [
    "PI = 3.14\n",
    "\n",
    "def circle_sq(radius: float) -> float:\n",
    "    sq = PI * (radius ** 2)\n",
    "    return sq\n",
    "\n",
    "print(circle_sq(3) + circle_sq(4.66))"
   ]
  },
  {
   "cell_type": "code",
   "execution_count": 7,
   "metadata": {},
   "outputs": [
    {
     "name": "stdout",
     "output_type": "stream",
     "text": [
      "3.141592653589793\n"
     ]
    }
   ],
   "source": [
    "import math\n",
    "\n",
    "print(math.pi)"
   ]
  },
  {
   "cell_type": "code",
   "execution_count": 8,
   "metadata": {},
   "outputs": [
    {
     "data": {
      "text/plain": [
       "['__doc__',\n",
       " '__loader__',\n",
       " '__name__',\n",
       " '__package__',\n",
       " '__spec__',\n",
       " 'acos',\n",
       " 'acosh',\n",
       " 'asin',\n",
       " 'asinh',\n",
       " 'atan',\n",
       " 'atan2',\n",
       " 'atanh',\n",
       " 'ceil',\n",
       " 'comb',\n",
       " 'copysign',\n",
       " 'cos',\n",
       " 'cosh',\n",
       " 'degrees',\n",
       " 'dist',\n",
       " 'e',\n",
       " 'erf',\n",
       " 'erfc',\n",
       " 'exp',\n",
       " 'expm1',\n",
       " 'fabs',\n",
       " 'factorial',\n",
       " 'floor',\n",
       " 'fmod',\n",
       " 'frexp',\n",
       " 'fsum',\n",
       " 'gamma',\n",
       " 'gcd',\n",
       " 'hypot',\n",
       " 'inf',\n",
       " 'isclose',\n",
       " 'isfinite',\n",
       " 'isinf',\n",
       " 'isnan',\n",
       " 'isqrt',\n",
       " 'ldexp',\n",
       " 'lgamma',\n",
       " 'log',\n",
       " 'log10',\n",
       " 'log1p',\n",
       " 'log2',\n",
       " 'modf',\n",
       " 'nan',\n",
       " 'perm',\n",
       " 'pi',\n",
       " 'pow',\n",
       " 'prod',\n",
       " 'radians',\n",
       " 'remainder',\n",
       " 'sin',\n",
       " 'sinh',\n",
       " 'sqrt',\n",
       " 'tan',\n",
       " 'tanh',\n",
       " 'tau',\n",
       " 'trunc']"
      ]
     },
     "execution_count": 8,
     "metadata": {},
     "output_type": "execute_result"
    }
   ],
   "source": [
    "dir(math)"
   ]
  },
  {
   "cell_type": "code",
   "execution_count": 9,
   "metadata": {},
   "outputs": [
    {
     "name": "stdout",
     "output_type": "stream",
     "text": [
      "3.141592653589793\n"
     ]
    }
   ],
   "source": [
    "from math import pi\n",
    "print(pi)"
   ]
  },
  {
   "cell_type": "code",
   "execution_count": 11,
   "metadata": {},
   "outputs": [
    {
     "name": "stdout",
     "output_type": "stream",
     "text": [
      "['абрикос', 'арбуз', 'первый', 'южный']\n"
     ]
    }
   ],
   "source": [
    "words_list = [\"первый\", \"южный\", \"арбуз\", \"абрикос\"]\n",
    "print(sorted(words_list))"
   ]
  },
  {
   "cell_type": "code",
   "execution_count": 12,
   "metadata": {},
   "outputs": [
    {
     "name": "stdout",
     "output_type": "stream",
     "text": [
      "['Южный', 'абрикос', 'арбуз', 'первый']\n"
     ]
    }
   ],
   "source": [
    "words_list = [\"первый\", \"Южный\", \"арбуз\", \"абрикос\"]\n",
    "print(sorted(words_list))"
   ]
  },
  {
   "cell_type": "code",
   "execution_count": 13,
   "metadata": {},
   "outputs": [
    {
     "name": "stdout",
     "output_type": "stream",
     "text": [
      "Help on built-in function sorted in module builtins:\n",
      "\n",
      "sorted(iterable, /, *, key=None, reverse=False)\n",
      "    Return a new list containing all items from the iterable in ascending order.\n",
      "    \n",
      "    A custom key function can be supplied to customize the sort order, and the\n",
      "    reverse flag can be set to request the result in descending order.\n",
      "\n"
     ]
    }
   ],
   "source": [
    "help(sorted)"
   ]
  },
  {
   "cell_type": "code",
   "execution_count": 17,
   "metadata": {
    "scrolled": true
   },
   "outputs": [
    {
     "name": "stdout",
     "output_type": "stream",
     "text": [
      "['Южный', 'первый', 'арбуз', 'абрикос']\n"
     ]
    }
   ],
   "source": [
    "def get_lower(word):\n",
    "    return word.lower()\n",
    "\n",
    "# print(get_lower(\"ЮЖныЙ\"))\n",
    "\n",
    "words_list = [\"первый\", \"Южный\", \"арбуз\", \"абрикос\"]\n",
    "print(sorted(words_list, key=get_lower, reverse=True))"
   ]
  },
  {
   "cell_type": "markdown",
   "metadata": {},
   "source": [
    "print(sorted(words_list, key=lambda word: word.lower()))\n",
    "\n",
    "get_lower = lambda word: word.lower()"
   ]
  },
  {
   "cell_type": "code",
   "execution_count": 19,
   "metadata": {},
   "outputs": [
    {
     "name": "stdout",
     "output_type": "stream",
     "text": [
      "['первый', 'южный', 'арбуз', 'абрикос']\n"
     ]
    }
   ],
   "source": [
    "mapped_list = map(get_lower, words_list)\n",
    "print(list(mapped_list))"
   ]
  },
  {
   "cell_type": "code",
   "execution_count": 23,
   "metadata": {},
   "outputs": [
    {
     "name": "stdout",
     "output_type": "stream",
     "text": [
      "['ПЕРВЫЙ', 'ЮЖНЫЙ', 'АРБУЗ', 'АБРИКОС']\n",
      "<map object at 0x066217A8>\n"
     ]
    }
   ],
   "source": [
    "mapped_list = map(str.upper, words_list)\n",
    "print(list(mapped_list))\n",
    "mapped_list = map(str.istitle, words_list)\n",
    "print(mapped_list)"
   ]
  },
  {
   "cell_type": "code",
   "execution_count": 25,
   "metadata": {},
   "outputs": [
    {
     "name": "stdout",
     "output_type": "stream",
     "text": [
      "ПЕРВЫЙ\n"
     ]
    }
   ],
   "source": [
    "mapped_list = map(str.upper, words_list)\n",
    "print(next(mapped_list))"
   ]
  },
  {
   "cell_type": "code",
   "execution_count": 26,
   "metadata": {},
   "outputs": [
    {
     "name": "stdout",
     "output_type": "stream",
     "text": [
      "ЮЖНЫЙ\n"
     ]
    }
   ],
   "source": [
    "print(next(mapped_list))"
   ]
  },
  {
   "cell_type": "code",
   "execution_count": 27,
   "metadata": {},
   "outputs": [],
   "source": [
    "a_list = [\"1\", \"2\", \"3\", \"4\"]\n",
    "b_list = [\"Иванов\", \"Петров\", \"Сидоров\", \"Федоров\"]\n",
    "zipped_list = zip(a_list, b_list)"
   ]
  },
  {
   "cell_type": "code",
   "execution_count": 28,
   "metadata": {},
   "outputs": [
    {
     "name": "stdout",
     "output_type": "stream",
     "text": [
      "<zip object at 0x069FAFE8>\n"
     ]
    }
   ],
   "source": [
    "print(zipped_list)"
   ]
  },
  {
   "cell_type": "code",
   "execution_count": 29,
   "metadata": {},
   "outputs": [
    {
     "name": "stdout",
     "output_type": "stream",
     "text": [
      "('1', 'Иванов')\n"
     ]
    }
   ],
   "source": [
    "print(next(zipped_list))"
   ]
  },
  {
   "cell_type": "code",
   "execution_count": 30,
   "metadata": {},
   "outputs": [
    {
     "name": "stdout",
     "output_type": "stream",
     "text": [
      "[('2', 'Петров'), ('3', 'Сидоров'), ('4', 'Федоров')]\n"
     ]
    }
   ],
   "source": [
    "print(list(zipped_list))"
   ]
  },
  {
   "cell_type": "code",
   "execution_count": 33,
   "metadata": {
    "scrolled": true
   },
   "outputs": [
    {
     "name": "stdout",
     "output_type": "stream",
     "text": [
      "['первый', 'Южный', 'арбуз', 'абрикос']\n",
      "[False, True, False, False]\n",
      "['Южный']\n"
     ]
    }
   ],
   "source": [
    "print(words_list)\n",
    "print(list(map(str.istitle, words_list)))\n",
    "# filter(str.istitle, words_list)\n",
    "print(list(filter(str.istitle, words_list)))"
   ]
  },
  {
   "cell_type": "markdown",
   "metadata": {},
   "source": [
    "python\n",
    ">>>\n",
    "\n",
    "python main.py\n",
    "\n",
    "pip install имя_библиотеки\n",
    "\n",
    "pip install jupyter\n",
    "pip install requests"
   ]
  },
  {
   "cell_type": "markdown",
   "metadata": {},
   "source": [
    "# ДЗ"
   ]
  },
  {
   "cell_type": "code",
   "execution_count": 37,
   "metadata": {},
   "outputs": [
    {
     "name": "stdout",
     "output_type": "stream",
     "text": [
      "*\n",
      "**\n",
      "***\n",
      "****\n",
      "*****\n",
      "******\n",
      "*******\n"
     ]
    }
   ],
   "source": [
    "sign = \"*\"\n",
    "# number = 100\n",
    "for number in range(1, 8): # [1,2,3,4,5,6,7]\n",
    "    print(sign * number)"
   ]
  },
  {
   "cell_type": "code",
   "execution_count": 38,
   "metadata": {},
   "outputs": [
    {
     "name": "stdout",
     "output_type": "stream",
     "text": [
      "*\n",
      "**\n",
      "***\n",
      "****\n",
      "*****\n",
      "******\n",
      "*******\n"
     ]
    }
   ],
   "source": [
    "star_line = \"*\" \n",
    "# namber_list = 1 \n",
    "for namber_list in range(1, 8): \n",
    "    print(star_line * namber_list)"
   ]
  },
  {
   "cell_type": "code",
   "execution_count": 40,
   "metadata": {},
   "outputs": [
    {
     "name": "stdout",
     "output_type": "stream",
     "text": [
      "*\n",
      "**\n",
      "***\n",
      "****\n",
      "*****\n",
      "******\n",
      "*******\n"
     ]
    }
   ],
   "source": [
    "# star_line = \"1\" \n",
    "# namber_list = 1 \n",
    "for namber_list in range(1, 8): \n",
    "    print(\"*\" * namber_list)"
   ]
  },
  {
   "cell_type": "code",
   "execution_count": 42,
   "metadata": {},
   "outputs": [
    {
     "name": "stdout",
     "output_type": "stream",
     "text": [
      "1\n",
      "12\n",
      "123\n",
      "1234\n",
      "12345\n",
      "123456\n",
      "1234567\n"
     ]
    }
   ],
   "source": [
    "line_string = \"\"\n",
    "for number in range(1, 8):\n",
    "#     line_string += str(number)\n",
    "    line_string = line_string + str(number)\n",
    "    print(line_string)"
   ]
  },
  {
   "cell_type": "code",
   "execution_count": 44,
   "metadata": {},
   "outputs": [
    {
     "name": "stdout",
     "output_type": "stream",
     "text": [
      "*\n",
      "**\n",
      "***\n",
      "****\n",
      "*****\n",
      "******\n",
      "*******\n",
      "******\n",
      "*****\n",
      "****\n",
      "***\n",
      "**\n",
      "*\n"
     ]
    }
   ],
   "source": [
    "for namber_list in range(1, 8): \n",
    "    print(\"*\" * namber_list)\n",
    "for namber_list in range(6, 0, -1): \n",
    "    print(\"*\" * namber_list)"
   ]
  },
  {
   "cell_type": "code",
   "execution_count": 49,
   "metadata": {},
   "outputs": [
    {
     "name": "stdout",
     "output_type": "stream",
     "text": [
      "1\n",
      "12\n",
      "123\n",
      "1234\n",
      "12345\n",
      "123456\n",
      "1234567\n",
      "123456\n",
      "12345\n",
      "1234\n",
      "123\n",
      "12\n",
      "1\n"
     ]
    }
   ],
   "source": [
    "line_string = \"\"\n",
    "for number in range(1, 8):\n",
    "    line_string = line_string + str(number)\n",
    "    print(line_string)\n",
    "for number in range(1, 7):\n",
    "    print(line_string[:-1 * number])"
   ]
  },
  {
   "cell_type": "code",
   "execution_count": 74,
   "metadata": {},
   "outputs": [
    {
     "name": "stdout",
     "output_type": "stream",
     "text": [
      "['Яблоки 130 200', 'Груши 155.99 15', 'Бананы 310 4']\n",
      "{'Яблоки': ['130', '200'], 'Груши': ['155.99', '15'], 'Бананы': ['310', '4']}\n"
     ]
    }
   ],
   "source": [
    "items_file = open('items.txt', 'r', encoding='utf-8')\n",
    "# items_text = items_file.read()\n",
    "items_list = items_file.readlines()\n",
    "items_file.close()\n",
    "# print(items_file.readline())\n",
    "items_list = list(map(str.strip, items_list))\n",
    "print(items_list)\n",
    "items_dict = {}\n",
    "for item in items_list:\n",
    "    cur_item = item.split()\n",
    "    items_dict[cur_item[0]] = [cur_item[1], cur_item[2]]\n",
    "print(items_dict)"
   ]
  },
  {
   "cell_type": "code",
   "execution_count": 75,
   "metadata": {},
   "outputs": [],
   "source": [
    "with open('items.txt', 'r', encoding='utf-8') as items_file:\n",
    "    items_list = items_file.readlines()"
   ]
  },
  {
   "cell_type": "code",
   "execution_count": 88,
   "metadata": {},
   "outputs": [
    {
     "name": "stdout",
     "output_type": "stream",
     "text": [
      "Какой товар Вас интересует?\n",
      "яблоки\n",
      "Яблоки есть. Цена - 130.0, осталось - 200 шт.\n",
      "Сколько нужно?\n",
      "55\n",
      "С Вас 7150.0 руб.\n"
     ]
    }
   ],
   "source": [
    "def get_order_check(item_name, item_price, item_numbs):\n",
    "    order_check = f\"Товар: {item_name.title()}.\\nЦена: {item_price} руб.\\nКоличество: {item_numbs} шт.\\n{'-'*20}\\nИТОГО: {item_price * item_numbs} руб.\"\n",
    "    order_check_file = open('order_check.txt', 'w', encoding='utf-8')\n",
    "    order_check_file.write(order_check)\n",
    "    order_check_file.close()\n",
    "\n",
    "items_file = open('items.txt', 'r', encoding='utf-8')\n",
    "items_list = items_file.readlines()\n",
    "items_file.close()\n",
    "\n",
    "items_list = list(map(str.strip, items_list))\n",
    "items_dict = {}\n",
    "for item in items_list:\n",
    "    cur_item = item.split()\n",
    "    items_dict[cur_item[0].lower()] = [float(cur_item[1]), int(cur_item[2])]\n",
    "\n",
    "need_item = input(\"Какой товар Вас интересует?\\n\").lower().strip()\n",
    "if need_item in items_dict.keys():\n",
    "    item_price = items_dict[need_item][0]\n",
    "    item_numbs = items_dict[need_item][1]\n",
    "    print(f\"{need_item.title()} есть. Цена - {item_price}, осталось - {item_numbs} шт.\")\n",
    "    need_numbs = int(input(\"Сколько нужно?\\n\").strip())\n",
    "    if need_numbs <= item_numbs:\n",
    "        print(f\"С Вас {item_price * need_numbs} руб.\")\n",
    "        items_dict[need_item][1] -= need_numbs\n",
    "        get_order_check(need_item, item_price, need_numbs)\n",
    "    else:\n",
    "        print(f\"Столько нет. Осталось {item_numbs} шт.\")\n",
    "else:\n",
    "    print(f\"Этого нет.\")"
   ]
  },
  {
   "cell_type": "code",
   "execution_count": null,
   "metadata": {},
   "outputs": [],
   "source": []
  }
 ],
 "metadata": {
  "kernelspec": {
   "display_name": "Python 3",
   "language": "python",
   "name": "python3"
  },
  "language_info": {
   "codemirror_mode": {
    "name": "ipython",
    "version": 3
   },
   "file_extension": ".py",
   "mimetype": "text/x-python",
   "name": "python",
   "nbconvert_exporter": "python",
   "pygments_lexer": "ipython3",
   "version": "3.8.2"
  }
 },
 "nbformat": 4,
 "nbformat_minor": 4
}
