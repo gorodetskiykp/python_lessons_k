{
 "cells": [
  {
   "cell_type": "markdown",
   "metadata": {},
   "source": [
    "# Функции"
   ]
  },
  {
   "cell_type": "code",
   "execution_count": null,
   "metadata": {},
   "outputs": [],
   "source": [
    "def my_function(arg_1, arg_2):\n",
    "    sum = arg_1 + arg_2\n",
    "    return sum"
   ]
  },
  {
   "cell_type": "code",
   "execution_count": null,
   "metadata": {},
   "outputs": [],
   "source": [
    "a = 4\n",
    "b = 5\n",
    "print(my_function(a, b))"
   ]
  },
  {
   "cell_type": "code",
   "execution_count": null,
   "metadata": {},
   "outputs": [],
   "source": [
    "def my_function(arg_1, arg_2, arg_3=0):\n",
    "    sum = arg_1 + arg_2 + arg_3\n",
    "    return sum"
   ]
  },
  {
   "cell_type": "code",
   "execution_count": null,
   "metadata": {},
   "outputs": [],
   "source": [
    "a = 4\n",
    "b = 5\n",
    "print(my_function(a, b))"
   ]
  },
  {
   "cell_type": "code",
   "execution_count": null,
   "metadata": {},
   "outputs": [],
   "source": [
    "a = 4\n",
    "b = 5\n",
    "print(my_function(a, b, 10))"
   ]
  },
  {
   "cell_type": "code",
   "execution_count": null,
   "metadata": {},
   "outputs": [],
   "source": [
    "def my_function(arg_1, arg_2, arg_3=0, *args):\n",
    "    sum = arg_1 + arg_2 + arg_3\n",
    "    print(args)\n",
    "    return sum"
   ]
  },
  {
   "cell_type": "code",
   "execution_count": null,
   "metadata": {},
   "outputs": [],
   "source": [
    "a = 4\n",
    "b = 5\n",
    "print(my_function(a, b, 10))"
   ]
  },
  {
   "cell_type": "code",
   "execution_count": null,
   "metadata": {},
   "outputs": [],
   "source": [
    "a = 4\n",
    "b = 5\n",
    "print(my_function(a, b, 10, 7, 5, 3))"
   ]
  },
  {
   "cell_type": "code",
   "execution_count": null,
   "metadata": {},
   "outputs": [],
   "source": [
    "def my_function(arg_1, arg_2, arg_3=0, *args):\n",
    "    summa = arg_1 + arg_2 + arg_3 + sum(args)\n",
    "    return summa"
   ]
  },
  {
   "cell_type": "code",
   "execution_count": null,
   "metadata": {},
   "outputs": [],
   "source": [
    "a = 4\n",
    "b = 5\n",
    "print(my_function(a, b, 10, 7, 5, 3))"
   ]
  },
  {
   "cell_type": "code",
   "execution_count": null,
   "metadata": {},
   "outputs": [],
   "source": [
    "def my_function(arg_1, arg_2, arg_3=0):\n",
    "    summa = arg_1 + arg_2 + arg_3\n",
    "    return summa"
   ]
  },
  {
   "cell_type": "code",
   "execution_count": null,
   "metadata": {},
   "outputs": [],
   "source": [
    "print(my_function(arg_1=44, arg_2=17, arg_3=10))\n",
    "print(my_function(arg_1=44, arg_3=10, arg_2=17))"
   ]
  },
  {
   "cell_type": "code",
   "execution_count": null,
   "metadata": {},
   "outputs": [],
   "source": [
    "def my_function(arg_1, arg_2, arg_3=0, *args, **kwargs):\n",
    "    summa = arg_1 + arg_2 + arg_3\n",
    "    print(args)\n",
    "    print(kwargs)\n",
    "    return summa"
   ]
  },
  {
   "cell_type": "code",
   "execution_count": null,
   "metadata": {},
   "outputs": [],
   "source": [
    "print(my_function(44, 17, 10, 1, 2, 3, arg_4=17))"
   ]
  },
  {
   "cell_type": "code",
   "execution_count": null,
   "metadata": {},
   "outputs": [],
   "source": [
    "print(my_function(17, 10, 1, 2, 3, 6, arg_4=17))"
   ]
  },
  {
   "cell_type": "code",
   "execution_count": null,
   "metadata": {},
   "outputs": [],
   "source": [
    "print(1, 2, 3, 4, 5)"
   ]
  },
  {
   "cell_type": "code",
   "execution_count": null,
   "metadata": {},
   "outputs": [],
   "source": [
    "def print(*args):\n",
    "    pass"
   ]
  },
  {
   "cell_type": "code",
   "execution_count": null,
   "metadata": {},
   "outputs": [],
   "source": [
    "a, b = 1, 2"
   ]
  },
  {
   "cell_type": "code",
   "execution_count": null,
   "metadata": {},
   "outputs": [],
   "source": [
    "a"
   ]
  },
  {
   "cell_type": "code",
   "execution_count": null,
   "metadata": {},
   "outputs": [],
   "source": [
    "b"
   ]
  },
  {
   "cell_type": "code",
   "execution_count": null,
   "metadata": {},
   "outputs": [],
   "source": [
    "a, *b = 1, 2, 3"
   ]
  },
  {
   "cell_type": "code",
   "execution_count": null,
   "metadata": {},
   "outputs": [],
   "source": [
    "a"
   ]
  },
  {
   "cell_type": "code",
   "execution_count": null,
   "metadata": {},
   "outputs": [],
   "source": [
    "b"
   ]
  },
  {
   "cell_type": "code",
   "execution_count": null,
   "metadata": {},
   "outputs": [],
   "source": [
    "def my_function(arg_1, arg_2):\n",
    "    sum = arg_1 + arg_2\n",
    "    return sum"
   ]
  },
  {
   "cell_type": "code",
   "execution_count": 2,
   "metadata": {},
   "outputs": [],
   "source": [
    "my_function_l = lambda arg_1, arg_2: arg_1 + arg_2"
   ]
  },
  {
   "cell_type": "code",
   "execution_count": 3,
   "metadata": {},
   "outputs": [
    {
     "name": "stdout",
     "output_type": "stream",
     "text": [
      "3\n"
     ]
    }
   ],
   "source": [
    "print(my_function_l(1, 2))"
   ]
  },
  {
   "cell_type": "code",
   "execution_count": 5,
   "metadata": {},
   "outputs": [
    {
     "data": {
      "text/plain": [
       "['A', 'a', 'B']"
      ]
     },
     "execution_count": 5,
     "metadata": {},
     "output_type": "execute_result"
    }
   ],
   "source": [
    "sorted([\"A\", \"B\", \"a\"], key=lambda letter: letter.lower())"
   ]
  },
  {
   "cell_type": "code",
   "execution_count": 6,
   "metadata": {},
   "outputs": [],
   "source": [
    "def alpha_sort(letter):\n",
    "    return letter.lower()"
   ]
  },
  {
   "cell_type": "code",
   "execution_count": 7,
   "metadata": {},
   "outputs": [
    {
     "data": {
      "text/plain": [
       "['A', 'a', 'B']"
      ]
     },
     "execution_count": 7,
     "metadata": {},
     "output_type": "execute_result"
    }
   ],
   "source": [
    "sorted([\"A\", \"B\", \"a\"], key=alpha_sort)"
   ]
  },
  {
   "cell_type": "markdown",
   "metadata": {},
   "source": [
    "# ANACONDA"
   ]
  },
  {
   "cell_type": "markdown",
   "metadata": {},
   "source": [
    "https://www.anaconda.com/products/individual"
   ]
  },
  {
   "cell_type": "markdown",
   "metadata": {},
   "source": [
    "# PY.CHECKio"
   ]
  },
  {
   "cell_type": "markdown",
   "metadata": {},
   "source": [
    "https://py.checkio.org/"
   ]
  },
  {
   "cell_type": "markdown",
   "metadata": {},
   "source": [
    "# GIT"
   ]
  },
  {
   "cell_type": "markdown",
   "metadata": {},
   "source": [
    "https://git-scm.com/"
   ]
  },
  {
   "cell_type": "markdown",
   "metadata": {},
   "source": [
    "# GITHUB"
   ]
  },
  {
   "cell_type": "markdown",
   "metadata": {},
   "source": [
    "https://github.com/"
   ]
  },
  {
   "cell_type": "code",
   "execution_count": 9,
   "metadata": {},
   "outputs": [
    {
     "name": "stdout",
     "output_type": "stream",
     "text": [
      "Какой товар Вас интересует?\n",
      "Яблоки\n",
      "Яблоки есть. Цена - 130.0, осталось - 200 шт.\n",
      "Сколько нужно?\n",
      "3\n",
      "С Вас 390.0 руб.\n"
     ]
    }
   ],
   "source": [
    "def get_order_check(item_name, item_price, item_numbs):\n",
    "    \"\"\"\n",
    "    Печать чека в файл.\n",
    "    Принимает: название товара, стоимость и количество.\n",
    "    \"\"\"\n",
    "    order_check = f\"Товар: {item_name.title()}.\\nЦена: {item_price} руб.\\nКоличество: {item_numbs} шт.\\n{'-'*20}\\nИТОГО: {item_price * item_numbs} руб.\"\n",
    "    order_check_file = open('order_check.txt', 'w', encoding='utf-8')\n",
    "    order_check_file.write(order_check)\n",
    "    order_check_file.close()\n",
    "\n",
    "    \n",
    "def read_price_list(price_file_name):\n",
    "    \"\"\"\n",
    "    Чтение прайс-листа из файла.\n",
    "    Возвращает словарь вида: {'название_товара': ['стоимость', 'количество']}\n",
    "    \"\"\"\n",
    "    items_file = open(price_file_name, 'r', encoding='utf-8')\n",
    "    items_list = items_file.readlines()\n",
    "    items_file.close()\n",
    "\n",
    "    items_list = list(map(str.strip, items_list))\n",
    "    items_dict = {}\n",
    "    for item in items_list:\n",
    "        cur_item = item.split()\n",
    "        items_dict[cur_item[0].lower()] = [float(cur_item[1]), int(cur_item[2])]\n",
    "    return items_dict\n",
    "\n",
    "\n",
    "items_dict = read_price_list('items.txt')    \n",
    "need_item = input(\"Какой товар Вас интересует?\\n\").lower().strip()\n",
    "if need_item in items_dict.keys():\n",
    "    item_price = items_dict[need_item][0]\n",
    "    item_numbs = items_dict[need_item][1]\n",
    "    print(f\"{need_item.title()} есть. Цена - {item_price}, осталось - {item_numbs} шт.\")\n",
    "    need_numbs = int(input(\"Сколько нужно?\\n\").strip())\n",
    "    if need_numbs <= item_numbs:\n",
    "        print(f\"С Вас {item_price * need_numbs} руб.\")\n",
    "        items_dict[need_item][1] -= need_numbs\n",
    "        get_order_check(need_item, item_price, need_numbs)\n",
    "    else:\n",
    "        print(f\"Столько нет. Осталось {item_numbs} шт.\")\n",
    "else:\n",
    "    print(f\"Этого нет.\")"
   ]
  },
  {
   "cell_type": "code",
   "execution_count": 19,
   "metadata": {},
   "outputs": [
    {
     "name": "stdout",
     "output_type": "stream",
     "text": [
      "11 ОК !!!\n",
      "00 \n"
     ]
    }
   ],
   "source": [
    "def print_sm(text):\n",
    "    pre = \"11 \"\n",
    "    text = pre + text \n",
    "    print(text + ' !!!')\n",
    "    \n",
    "pre = \"00 \"\n",
    "print_sm(\"ОК\")\n",
    "print(pre)"
   ]
  },
  {
   "cell_type": "code",
   "execution_count": 21,
   "metadata": {},
   "outputs": [
    {
     "name": "stdout",
     "output_type": "stream",
     "text": [
      "11 ОК !!!\n",
      "11 \n"
     ]
    }
   ],
   "source": [
    "def print_sm(text):\n",
    "    global pre\n",
    "    pre = \"11 \"\n",
    "    text = pre + text \n",
    "    print(text + ' !!!')\n",
    "    \n",
    "pre = \"00 \"\n",
    "print_sm(\"ОК\")\n",
    "print(pre)"
   ]
  },
  {
   "cell_type": "code",
   "execution_count": null,
   "metadata": {},
   "outputs": [],
   "source": [
    "g_list = []\n",
    "\n",
    "def add_to_list(item):\n",
    "    g_list.append(item)\n",
    "    return f\"{item} added!\""
   ]
  },
  {
   "cell_type": "code",
   "execution_count": 24,
   "metadata": {},
   "outputs": [
    {
     "name": "stdout",
     "output_type": "stream",
     "text": [
      "Какой товар Вас интересует? (0 - если больше ничего не нужно)\n",
      "Яблоки\n",
      "Сколько нужно?\n",
      "20\n",
      "Товар добавлен в корзину.\n",
      "Какой товар Вас интересует? (0 - если больше ничего не нужно)\n",
      "Груши\n",
      "Сколько нужно?\n",
      "5\n",
      "Товар добавлен в корзину.\n",
      "Какой товар Вас интересует? (0 - если больше ничего не нужно)\n",
      "0\n"
     ]
    }
   ],
   "source": [
    "def print_order_check(cart, file_name):\n",
    "    \"\"\"\n",
    "    Печать чека в файл file_name.\n",
    "    Обрабатывает список cart: название товара, стоимость и количество.\n",
    "    \"\"\"\n",
    "    order_check = f\"Товар\\tЦена\\tКоличество\\tСтоимость\\n\"\n",
    "    for item in cart:\n",
    "        item_name, item_price, item_numbs = item\n",
    "        order_check += f\"{item_name.title()}\\t{item_price} руб.\\t{item_numbs} шт.\\t{item_price * item_numbs} руб.\\n\"\n",
    "    order_check_file = open(file_name, 'w', encoding='utf-8')\n",
    "    order_check_file.write(order_check)\n",
    "    order_check_file.close()\n",
    "\n",
    "    \n",
    "def read_price_list(price_file_name):\n",
    "    \"\"\"\n",
    "    Чтение прайс-листа из файла.\n",
    "    Возвращает словарь вида: {'название_товара': ['стоимость', 'количество']}\n",
    "    \"\"\"\n",
    "    items_file = open(price_file_name, 'r', encoding='utf-8')\n",
    "    items_list = items_file.readlines()\n",
    "    items_file.close()\n",
    "\n",
    "    items_list = list(map(str.strip, items_list))\n",
    "    items_dict = {}\n",
    "    for item in items_list:\n",
    "        cur_item = item.split()\n",
    "        items_dict[cur_item[0].lower()] = [float(cur_item[1]), int(cur_item[2])]\n",
    "    return items_dict\n",
    "\n",
    "\n",
    "def check_item(need_item):\n",
    "    \"\"\"\n",
    "    Проверяет наличие товара в прайс-листе.\n",
    "    \"\"\"\n",
    "    return need_item in items_dict.keys()\n",
    "\n",
    "\n",
    "def check_nums(need_item, need_nums):\n",
    "    \"\"\"\n",
    "    Проверяет количество товара в прайс-листе.\n",
    "    \"\"\"\n",
    "    nums = items_dict[need_item][1]\n",
    "    return need_nums <= nums\n",
    "\n",
    "\n",
    "def item_to_cart(need_item, need_nums):\n",
    "    \"\"\"\n",
    "    Добавление продукта в корзину.\n",
    "    \"\"\"\n",
    "    item_price = items_dict[need_item][0]\n",
    "    items_dict[need_item][1] -= need_numbs\n",
    "    cart.append([need_item, item_price, need_nums])\n",
    "    return \"Товар добавлен в корзину.\"\n",
    "\n",
    "\n",
    "items_dict = read_price_list('items.txt')\n",
    "cart = []\n",
    "while True:\n",
    "    need_item = input(\"Какой товар Вас интересует? (0 - если больше ничего не нужно)\\n\").lower().strip()\n",
    "    if need_item == \"0\":\n",
    "        if cart:\n",
    "            print_order_check(cart, 'order_check.txt')\n",
    "            break\n",
    "        else:\n",
    "            break\n",
    "    if check_item(need_item):\n",
    "        need_nums = int(input(\"Сколько нужно?\\n\").strip())\n",
    "        if check_nums(need_item, need_nums):\n",
    "            print(item_to_cart(need_item, need_nums))\n",
    "        else:\n",
    "            print(\"Столько нет.\")\n",
    "    else:\n",
    "        print(\"Такого товара нет.\")"
   ]
  },
  {
   "cell_type": "markdown",
   "metadata": {},
   "source": [
    "# ДЗ"
   ]
  },
  {
   "cell_type": "markdown",
   "metadata": {},
   "source": [
    "1. В чеке печатать итоговую сумму покупки (отделить отчерком)\n",
    "2. В чеке печатать товары в алфавитном порядке\n",
    "3. Если выбрали один товар дважды, суммировать количество (т.е. в чеке выводить товар одной строкой)"
   ]
  },
  {
   "cell_type": "markdown",
   "metadata": {},
   "source": [
    "# Объектно-ориентированное программирование"
   ]
  },
  {
   "cell_type": "code",
   "execution_count": null,
   "metadata": {},
   "outputs": [],
   "source": [
    "Машина\n",
    "Легковая машина, грузовик\n",
    "\n",
    "наша_машина = Машина\n",
    "- свойства (описание)\n",
    "- методы (действие)\n",
    "\n",
    "class Car:\n",
    "    pass\n",
    "\n",
    "c = Car()"
   ]
  },
  {
   "cell_type": "code",
   "execution_count": 52,
   "metadata": {},
   "outputs": [
    {
     "name": "stdout",
     "output_type": "stream",
     "text": [
      "Машина: цвет - red, скорость - 0\n",
      "Разгоняюсь...\n",
      "Машина: цвет - red, скорость - 40\n",
      "Останавливаюсь...\n",
      "Машина: цвет - red, скорость - 0\n",
      "Разгоняюсь...\n",
      "Машина: цвет - red, скорость - 5\n",
      "Сначала притормози\n",
      "Машина: цвет - red, скорость - 5\n"
     ]
    }
   ],
   "source": [
    "class Car:\n",
    "    def __init__(self, color='white'):\n",
    "        self.speed = 0\n",
    "        self.color = color\n",
    "        self.engine = False\n",
    "    \n",
    "    def __str__(self):\n",
    "        return f'Машина: цвет - {self.color}, скорость - {self.speed}'\n",
    "    \n",
    "    def engine_on(self):\n",
    "        self.engine = True\n",
    "        \n",
    "    def engine_off(self):\n",
    "        if self.speed > 0:\n",
    "            print(\"Сначала притормози\")\n",
    "        else:\n",
    "            self.engine = False\n",
    "    \n",
    "    def stop(self):\n",
    "        self.speed = 0\n",
    "        print(\"Останавливаюсь...\")\n",
    "    \n",
    "    def speed_up(self, up=10):\n",
    "        if self.engine:\n",
    "            self.speed += up\n",
    "            print(\"Разгоняюсь...\")\n",
    "        else:\n",
    "            print(\"Сначала включи двигатель\")\n",
    "\n",
    "\n",
    "c = Car('red')\n",
    "# c.speed = 90\n",
    "c.engine_on()\n",
    "# c.color = 'red'\n",
    "print(c)\n",
    "c.speed_up(40)\n",
    "print(c)\n",
    "c.stop()\n",
    "print(c)\n",
    "c.speed_up(5)\n",
    "print(c)\n",
    "c.engine_off()\n",
    "print(c)"
   ]
  },
  {
   "cell_type": "markdown",
   "metadata": {},
   "source": [
    "# ДЗ"
   ]
  },
  {
   "cell_type": "markdown",
   "metadata": {},
   "source": [
    "1. Добавить свои свойства и методы"
   ]
  }
 ],
 "metadata": {
  "kernelspec": {
   "display_name": "Python 3",
   "language": "python",
   "name": "python3"
  },
  "language_info": {
   "codemirror_mode": {
    "name": "ipython",
    "version": 3
   },
   "file_extension": ".py",
   "mimetype": "text/x-python",
   "name": "python",
   "nbconvert_exporter": "python",
   "pygments_lexer": "ipython3",
   "version": "3.8.2"
  }
 },
 "nbformat": 4,
 "nbformat_minor": 4
}
