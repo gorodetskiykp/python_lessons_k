{
 "cells": [
  {
   "cell_type": "markdown",
   "metadata": {},
   "source": [
    "# Типы данных"
   ]
  },
  {
   "cell_type": "code",
   "execution_count": 5,
   "metadata": {},
   "outputs": [
    {
     "name": "stdout",
     "output_type": "stream",
     "text": [
      "Целое число:  <class 'int'>\n",
      "Дробное число (число с плавающей точкой):  <class 'float'>\n",
      "Текст:  <class 'str'>\n",
      "Список:  <class 'list'>\n",
      "Кортеж:  <class 'tuple'>\n",
      "Множество:  <class 'set'>\n",
      "Словарь:  <class 'dict'>\n"
     ]
    }
   ],
   "source": [
    "print(\"Целое число: \", type(5))\n",
    "print(\"Дробное число (число с плавающей точкой): \", type(3.15))\n",
    "print(\"Текст: \", type(\"Text\"))\n",
    "print(\"Список: \", type([1, 2, 3, 3, \"List text\", [5, 6], (\"Another text\", 12)]))\n",
    "print(\"Кортеж: \", type((1, 2, 3, 3, \"Tuple text\")))\n",
    "print(\"Множество: \", type({1, \"Set text\", 3, 3, 3, 2}))\n",
    "print(\"Словарь: \", type({1: \"Dict text\", 2: 3.15, \"some key\": [1, 2, 3]}))"
   ]
  },
  {
   "cell_type": "markdown",
   "metadata": {},
   "source": [
    "# Преобразование типов данных"
   ]
  },
  {
   "cell_type": "code",
   "execution_count": 9,
   "metadata": {},
   "outputs": [
    {
     "name": "stdout",
     "output_type": "stream",
     "text": [
      "Целое число:  3\n",
      "Число с плавающей точкой:  3.0\n",
      "Строка:  3\n",
      "Список:  [3]\n",
      "Кортеж:  (3,)\n",
      "Множество:  {3}\n",
      "Словарь:  {3: 3}\n"
     ]
    }
   ],
   "source": [
    "a_int = 3\n",
    "print(\"Целое число: \", a_int)\n",
    "print(\"Число с плавающей точкой: \", float(a_int))\n",
    "print(\"Строка: \", str(a_int))\n",
    "print(\"Список: \", list([a_int]))\n",
    "print(\"Кортеж: \", tuple([a_int]))\n",
    "print(\"Множество: \", set([a_int]))\n",
    "print(\"Словарь: \", dict([(a_int, a_int)]))"
   ]
  },
  {
   "cell_type": "markdown",
   "metadata": {},
   "source": [
    "# Ввод данных\n",
    "\n",
    "Функция **input()**\n",
    "\n",
    "# Вывод данных\n",
    "\n",
    "Функция **print()**"
   ]
  },
  {
   "cell_type": "code",
   "execution_count": 3,
   "metadata": {},
   "outputs": [
    {
     "name": "stdout",
     "output_type": "stream",
     "text": [
      "Привет! Как тебя зовут? Женя\n",
      "Привет, Женя\n",
      "Привет, Женя\n",
      "Привет, Женя\n"
     ]
    }
   ],
   "source": [
    "your_name = input(\"Привет! Как тебя зовут? \")\n",
    "print(\"Привет,\", your_name) # аргументы\n",
    "print(\"Привет, {}\".format(your_name)) # метод format\n",
    "print(f\"Привет, {your_name}\") # f-строка"
   ]
  },
  {
   "cell_type": "markdown",
   "metadata": {},
   "source": [
    "# Задачи\n",
    "### 1. Напишите программу, которая будет получать 2 числа и возвращать результат произведения этих чисел. Числа вводить с помощью input()"
   ]
  },
  {
   "cell_type": "markdown",
   "metadata": {},
   "source": [
    "https://repl.it/@arsenykuzin/UnknownTrivialAssignment#main.py"
   ]
  },
  {
   "cell_type": "code",
   "execution_count": 12,
   "metadata": {},
   "outputs": [
    {
     "name": "stdout",
     "output_type": "stream",
     "text": [
      "3\n",
      "3\n",
      "4\n"
     ]
    },
    {
     "ename": "TypeError",
     "evalue": "unsupported operand type(s) for *: 'NoneType' and 'int'",
     "output_type": "error",
     "traceback": [
      "\u001b[1;31m-------------------------------------------------------------------\u001b[0m",
      "\u001b[1;31mTypeError\u001b[0m                         Traceback (most recent call last)",
      "\u001b[1;32m<ipython-input-12-303b47a53f88>\u001b[0m in \u001b[0;36m<module>\u001b[1;34m\u001b[0m\n\u001b[1;32m----> 1\u001b[1;33m \u001b[0mprint\u001b[0m\u001b[1;33m(\u001b[0m\u001b[0mint\u001b[0m\u001b[1;33m(\u001b[0m\u001b[0minput\u001b[0m\u001b[1;33m(\u001b[0m\u001b[1;33m)\u001b[0m\u001b[1;33m)\u001b[0m\u001b[1;33m)\u001b[0m \u001b[1;33m*\u001b[0m \u001b[0mint\u001b[0m\u001b[1;33m(\u001b[0m\u001b[0minput\u001b[0m\u001b[1;33m(\u001b[0m\u001b[1;33m)\u001b[0m\u001b[1;33m)\u001b[0m \u001b[1;31m# что-то не так со скобками :(\u001b[0m\u001b[1;33m\u001b[0m\u001b[1;33m\u001b[0m\u001b[0m\n\u001b[0m",
      "\u001b[1;31mTypeError\u001b[0m: unsupported operand type(s) for *: 'NoneType' and 'int'"
     ]
    }
   ],
   "source": [
    "print(int(input())) * int(input()) # что-то не так со скобками :("
   ]
  },
  {
   "cell_type": "code",
   "execution_count": 5,
   "metadata": {
    "scrolled": true
   },
   "outputs": [
    {
     "name": "stdout",
     "output_type": "stream",
     "text": [
      "3\n",
      "4\n",
      "12\n"
     ]
    }
   ],
   "source": [
    "print(int(input()) * int(input()))"
   ]
  },
  {
   "cell_type": "code",
   "execution_count": 7,
   "metadata": {},
   "outputs": [
    {
     "name": "stdout",
     "output_type": "stream",
     "text": [
      "Введите число 1:3\n",
      "Введите число 2:4\n",
      "3 * 4 = 12\n"
     ]
    }
   ],
   "source": [
    "number_1 = int(input(\"Введите число 1:\"))\n",
    "number_2 = int(input(\"Введите число 2:\"))\n",
    "print(f\"{number_1} * {number_2} = {number_1 * number_2}\")"
   ]
  },
  {
   "cell_type": "markdown",
   "metadata": {},
   "source": [
    "### 2. Напишите программу, которая получает массив (tuple) и возвращает набор с 3 элементами - первым, третьим, вторым с конца."
   ]
  },
  {
   "cell_type": "markdown",
   "metadata": {},
   "source": [
    "https://repl.it/@arsenykuzin/AgileRealisticObjectpool#main.py"
   ]
  },
  {
   "cell_type": "code",
   "execution_count": 14,
   "metadata": {
    "scrolled": true
   },
   "outputs": [
    {
     "name": "stdout",
     "output_type": "stream",
     "text": [
      "(1, 3, 7)\n",
      "1 3 7\n"
     ]
    }
   ],
   "source": [
    "a = ( 1 ,2 ,3 ,4 ,5 ,6 ,7 ,8 ) # пробелы не там.. имя переменной желательно изменить на более приветливое\n",
    "print ((a[0] ,a[2] ,a[-2])) # элементы скобками можно не объединять\n",
    "\n",
    "a_list = (1, 2, 3, 4, 5, 6, 7, 8)\n",
    "print(a_list[0], a_list[2], a_list[-2])"
   ]
  },
  {
   "cell_type": "markdown",
   "metadata": {},
   "source": [
    "### 3. У вас есть строка, которая содержит только числа. Нужно написать программу, которая выведет количество нулей в начале строки. Например '000121' = 3"
   ]
  },
  {
   "cell_type": "code",
   "execution_count": 18,
   "metadata": {},
   "outputs": [
    {
     "name": "stdout",
     "output_type": "stream",
     "text": [
      "Количество нулей в начале строки '000121' = 3\n"
     ]
    }
   ],
   "source": [
    "numeric_string = \"000121\"\n",
    "numeric_int = int(numeric_string) # 121\n",
    "leading_zeros = len(numeric_string) - len(str(numeric_int)) # 6 - 3\n",
    "print(f\"Количество нулей в начале строки '{numeric_string}' = {leading_zeros}\")"
   ]
  },
  {
   "cell_type": "markdown",
   "metadata": {},
   "source": [
    "# Внутренние функции"
   ]
  },
  {
   "cell_type": "code",
   "execution_count": 36,
   "metadata": {
    "scrolled": true
   },
   "outputs": [
    {
     "name": "stdout",
     "output_type": "stream",
     "text": [
      "555\n",
      "Строка '555' хранится в ячейке памяти № 119985152\n",
      "Строка '555' - тип <class 'str'>\n",
      "Последовательность от 0 до 9: [0, 1, 2, 3, 4, 5, 6, 7, 8, 9]\n",
      "Последовательность от 1 до 10: [1, 2, 3, 4, 5, 6, 7, 8, 9, 10]\n",
      "Последовательность от 5 до 50 с шагом 7: [5, 12, 19, 26, 33, 40, 47]\n",
      "Последовательность от 100 до 10 с шагом -10: [100, 90, 80, 70, 60, 50, 40, 30, 20, 10]\n",
      "Длина списка [1, 2, 3]: 3\n",
      "Длина строки 'Hello!': 6\n"
     ]
    }
   ],
   "source": [
    "a_int = 555\n",
    "\n",
    "# Преобразование типов\n",
    "a_str = str(a_int) \n",
    "\n",
    "# print(value, ..., sep=' ', end='\\n', file=sys.stdout, flush=False)\n",
    "print(a_str) \n",
    "\n",
    "# id() - номер ячейки памяти\n",
    "print(f\"Строка '{a_str}' хранится в ячейке памяти № {id(a_str)}\") \n",
    "\n",
    "# type() - тип данных\n",
    "print(f\"Строка '{a_str}' - тип {type(a_str)}\")\n",
    "\n",
    "# range() - создание последовательности чисел\n",
    "# range(stop) -> range object\n",
    "# range(start, stop[, step]) -> range object\n",
    "print(f\"Последовательность от 0 до 9: {list(range(10))}\")\n",
    "print(f\"Последовательность от 1 до 10: {list(range(1, 11))}\")\n",
    "print(f\"Последовательность от 5 до 50 с шагом 7: {list(range(5, 51, 7))}\")\n",
    "print(f\"Последовательность от 100 до 10 с шагом -10: {list(range(100, 9, -10))}\")\n",
    "\n",
    "# len() - длина последовательности\n",
    "print(f\"Длина списка [1, 2, 3]: {len([1, 2, 3])}\")\n",
    "print(f\"Длина строки 'Hello!': {len('Hello!')}\")"
   ]
  },
  {
   "cell_type": "markdown",
   "metadata": {},
   "source": [
    "# Условные операторы"
   ]
  },
  {
   "cell_type": "raw",
   "metadata": {},
   "source": [
    "if УСЛОВИЕ 1:\n",
    "    Блок команд, если условие 1 = True\n",
    "elif УСЛОВИЕ 2:\n",
    "    Блок команд, если условие 2 = True\n",
    "elif УСЛОВИЕ 3:\n",
    "    Блок команд, если условие 3 = True\n",
    "else:\n",
    "    Блок команд, если все условия = False"
   ]
  },
  {
   "cell_type": "markdown",
   "metadata": {},
   "source": [
    "# Цикл for"
   ]
  },
  {
   "cell_type": "code",
   "execution_count": 39,
   "metadata": {},
   "outputs": [
    {
     "name": "stdout",
     "output_type": "stream",
     "text": [
      "0 1 2 3 4 5 6 7 8 9 \n",
      "1--2--3--4--5--\n",
      "Э\n",
      "т\n",
      "о\n",
      " \n",
      "с\n",
      "т\n",
      "р\n",
      "о\n",
      "к\n",
      "а\n"
     ]
    }
   ],
   "source": [
    "for item in range(10):\n",
    "    print(item, end=\" \")\n",
    "\n",
    "print()    \n",
    "\n",
    "for number in [1, 2, 3, 4, 5]:\n",
    "    print(number, end=\"--\")\n",
    "    \n",
    "print()    \n",
    "\n",
    "for letter in \"Это строка\":\n",
    "    print(letter)"
   ]
  },
  {
   "cell_type": "markdown",
   "metadata": {},
   "source": [
    "# Цикл while"
   ]
  },
  {
   "cell_type": "code",
   "execution_count": 41,
   "metadata": {},
   "outputs": [
    {
     "name": "stdout",
     "output_type": "stream",
     "text": [
      "0\n",
      "1\n",
      "2\n",
      "3\n",
      "4\n",
      "5\n",
      "6\n",
      "7\n",
      "8\n",
      "9\n"
     ]
    }
   ],
   "source": [
    "some_number = 0\n",
    "while some_number < 10:\n",
    "    print(some_number)\n",
    "    some_number = some_number + 1 # some_number += 1\n",
    "    \n",
    "# Бесконечный цикл \n",
    "# while True:"
   ]
  },
  {
   "cell_type": "markdown",
   "metadata": {},
   "source": [
    "# Управление потоком исполнения\n",
    "##### break - выйти из блока\n",
    "##### continue - прервать выполнение блока и запустить следующую итерацию цикла\n",
    "##### pass - пустой блок (заглушка)"
   ]
  },
  {
   "cell_type": "markdown",
   "metadata": {},
   "source": [
    "# Списки"
   ]
  },
  {
   "cell_type": "code",
   "execution_count": 12,
   "metadata": {},
   "outputs": [
    {
     "name": "stdout",
     "output_type": "stream",
     "text": [
      "[1, 2, 3, 4, 5, 6, 7, 8, 9]\n",
      "1\n",
      "2\n",
      "9\n",
      "8\n",
      "9\n",
      "[2, 3, 4, 5]\n",
      "[1, 2, 3, 4, 5]\n",
      "[1, 2, 3, 4, 5]\n",
      "[6, 7, 8, 9]\n",
      "[7, 8]\n",
      "[2, 3, 4, 5, 6, 7, 8]\n",
      "[2, 4, 6, 8]\n",
      "[9, 8, 7, 6, 5, 4, 3]\n"
     ]
    }
   ],
   "source": [
    "my_list = list()\n",
    "my_list = []\n",
    "\n",
    "my_list = [1, 2, 3, 4, 5, 6, 7, 8, 9]\n",
    "print(my_list)\n",
    "\n",
    "# Индексы\n",
    "print(my_list[0]) # первый\n",
    "print(my_list[1]) # второй\n",
    "print(my_list[-1]) # последний\n",
    "print(my_list[-2]) # предпоследний\n",
    "print(my_list[~0]) # предпоследний\n",
    "\n",
    "# Срезы\n",
    "print(my_list[1:5]) # | 1 | 2 | 3 | 4 | 5 | 6 | 7 | 8 | 9 |\n",
    "print(my_list[0:5])\n",
    "print(my_list[:5]) # от начала\n",
    "print(my_list[5:]) # до конца\n",
    "print(my_list[-3:-1])\n",
    "print(my_list[1:8])\n",
    "print(my_list[1:8:2]) # каждый второй\n",
    "print(my_list[8:1:-1]) # в обратную сторону"
   ]
  },
  {
   "cell_type": "markdown",
   "metadata": {},
   "source": [
    "## Методы списков"
   ]
  },
  {
   "cell_type": "code",
   "execution_count": 34,
   "metadata": {},
   "outputs": [
    {
     "name": "stdout",
     "output_type": "stream",
     "text": [
      "[1, 2, 3]\n",
      "[1, 2, 3, 4]\n",
      "[1, 2, 3, 4, 9, 8, 7]\n",
      "[1, 2, 3, 4, 7, 8, 9]\n",
      "9 [1, 2, 3, 4, 7, 8]\n",
      "1 [2, 3, 4, 7, 8]\n",
      "3\n",
      "[8, 7, 4, 3, 2]\n",
      "[8, 7, 3, 2]\n"
     ]
    }
   ],
   "source": [
    "my_list = [1, 2, 3]\n",
    "print(my_list)\n",
    "\n",
    "my_list.append(4) # добавить 4 в конец списка\n",
    "print(my_list)\n",
    "\n",
    "my_list.extend([9, 8, 7]) # объединить два списка: my_list = my_list + [9, 8, 7]\n",
    "print(my_list)\n",
    "\n",
    "my_list.sort() # сортировка\n",
    "print(my_list)\n",
    "\n",
    "last_item = my_list.pop() # извлечь последний элемент\n",
    "print(last_item, my_list)\n",
    "\n",
    "first_item = my_list.pop(0) # извлечь элемент по индексу\n",
    "print(first_item, my_list)\n",
    "\n",
    "print(my_list.index(7)) # найти элемент 7 и показать его индекс\n",
    "\n",
    "my_list.reverse() # перевернуть список\n",
    "print(my_list)\n",
    "\n",
    "my_list.remove(4) # удалить 4 из списка\n",
    "print(my_list)\n"
   ]
  },
  {
   "cell_type": "markdown",
   "metadata": {},
   "source": [
    "# Практика"
   ]
  },
  {
   "cell_type": "markdown",
   "metadata": {},
   "source": [
    "### 1. Игра: угадай число. Сгенерировать случайное число. Попросить пользователя его угадать."
   ]
  },
  {
   "cell_type": "markdown",
   "metadata": {},
   "source": [
    "#### Решение через бесконечный цикл"
   ]
  },
  {
   "cell_type": "code",
   "execution_count": null,
   "metadata": {},
   "outputs": [],
   "source": []
  },
  {
   "cell_type": "markdown",
   "metadata": {},
   "source": [
    "#### Решение с ограниченным числом попыток"
   ]
  },
  {
   "cell_type": "code",
   "execution_count": null,
   "metadata": {},
   "outputs": [],
   "source": []
  },
  {
   "cell_type": "markdown",
   "metadata": {},
   "source": [
    "### 2. Игра: угадай слово."
   ]
  },
  {
   "cell_type": "code",
   "execution_count": null,
   "metadata": {},
   "outputs": [],
   "source": []
  }
 ],
 "metadata": {
  "kernelspec": {
   "display_name": "Python 3",
   "language": "python",
   "name": "python3"
  },
  "language_info": {
   "codemirror_mode": {
    "name": "ipython",
    "version": 3
   },
   "file_extension": ".py",
   "mimetype": "text/x-python",
   "name": "python",
   "nbconvert_exporter": "python",
   "pygments_lexer": "ipython3",
   "version": "3.8.2"
  }
 },
 "nbformat": 4,
 "nbformat_minor": 4
}
