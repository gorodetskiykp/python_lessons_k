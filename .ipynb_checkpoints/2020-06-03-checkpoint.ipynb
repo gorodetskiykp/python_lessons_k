{
 "cells": [
  {
   "cell_type": "markdown",
   "metadata": {},
   "source": [
    "# Типы данных"
   ]
  },
  {
   "cell_type": "code",
   "execution_count": 5,
   "metadata": {},
   "outputs": [
    {
     "name": "stdout",
     "output_type": "stream",
     "text": [
      "Целое число:  <class 'int'>\n",
      "Дробное число (число с плавающей точкой):  <class 'float'>\n",
      "Текст:  <class 'str'>\n",
      "Список:  <class 'list'>\n",
      "Кортеж:  <class 'tuple'>\n",
      "Множество:  <class 'set'>\n",
      "Словарь:  <class 'dict'>\n"
     ]
    }
   ],
   "source": [
    "print(\"Целое число: \", type(5))\n",
    "print(\"Дробное число (число с плавающей точкой): \", type(3.15))\n",
    "print(\"Текст: \", type(\"Text\"))\n",
    "print(\"Список: \", type([1, 2, 3, 3, \"List text\", [5, 6], (\"Another text\", 12)]))\n",
    "print(\"Кортеж: \", type((1, 2, 3, 3, \"Tuple text\")))\n",
    "print(\"Множество: \", type({1, \"Set text\", 3, 3, 3, 2}))\n",
    "print(\"Словарь: \", type({1: \"Dict text\", 2: 3.15, \"some key\": [1, 2, 3]}))"
   ]
  },
  {
   "cell_type": "markdown",
   "metadata": {},
   "source": [
    "# Преобразование типов данных"
   ]
  },
  {
   "cell_type": "code",
   "execution_count": 9,
   "metadata": {},
   "outputs": [
    {
     "name": "stdout",
     "output_type": "stream",
     "text": [
      "Целое число:  3\n",
      "Число с плавающей точкой:  3.0\n",
      "Строка:  3\n",
      "Список:  [3]\n",
      "Кортеж:  (3,)\n",
      "Множество:  {3}\n",
      "Словарь:  {3: 3}\n"
     ]
    }
   ],
   "source": [
    "a_int = 3\n",
    "print(\"Целое число: \", a_int)\n",
    "print(\"Число с плавающей точкой: \", float(a_int))\n",
    "print(\"Строка: \", str(a_int))\n",
    "print(\"Список: \", list([a_int]))\n",
    "print(\"Кортеж: \", tuple([a_int]))\n",
    "print(\"Множество: \", set([a_int]))\n",
    "print(\"Словарь: \", dict([(a_int, a_int)]))"
   ]
  },
  {
   "cell_type": "markdown",
   "metadata": {},
   "source": [
    "# Ввод данных\n",
    "\n",
    "Функция **input()**\n",
    "\n",
    "# Вывод данных\n",
    "\n",
    "Функция **print()**"
   ]
  },
  {
   "cell_type": "code",
   "execution_count": null,
   "metadata": {},
   "outputs": [],
   "source": []
  }
 ],
 "metadata": {
  "kernelspec": {
   "display_name": "Python 3",
   "language": "python",
   "name": "python3"
  },
  "language_info": {
   "codemirror_mode": {
    "name": "ipython",
    "version": 3
   },
   "file_extension": ".py",
   "mimetype": "text/x-python",
   "name": "python",
   "nbconvert_exporter": "python",
   "pygments_lexer": "ipython3",
   "version": "3.8.2"
  }
 },
 "nbformat": 4,
 "nbformat_minor": 4
}
