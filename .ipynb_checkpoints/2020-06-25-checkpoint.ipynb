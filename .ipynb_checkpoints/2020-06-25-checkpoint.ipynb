{
 "cells": [
  {
   "cell_type": "markdown",
   "metadata": {},
   "source": [
    "# ДЗ - 2020-06-21"
   ]
  },
  {
   "cell_type": "markdown",
   "metadata": {},
   "source": [
    "# Исключения"
   ]
  },
  {
   "cell_type": "code",
   "execution_count": 1,
   "metadata": {},
   "outputs": [
    {
     "ename": "ZeroDivisionError",
     "evalue": "division by zero",
     "output_type": "error",
     "traceback": [
      "\u001b[1;31m---------------------------------------------------------------------------\u001b[0m",
      "\u001b[1;31mZeroDivisionError\u001b[0m                         Traceback (most recent call last)",
      "\u001b[1;32m<ipython-input-1-6a8f83430dbe>\u001b[0m in \u001b[0;36m<module>\u001b[1;34m\u001b[0m\n\u001b[1;32m----> 1\u001b[1;33m \u001b[0ma\u001b[0m \u001b[1;33m=\u001b[0m \u001b[1;36m1\u001b[0m \u001b[1;33m/\u001b[0m \u001b[1;36m0\u001b[0m\u001b[1;33m\u001b[0m\u001b[1;33m\u001b[0m\u001b[0m\n\u001b[0m",
      "\u001b[1;31mZeroDivisionError\u001b[0m: division by zero"
     ]
    }
   ],
   "source": [
    "a = 1 / 0"
   ]
  },
  {
   "cell_type": "code",
   "execution_count": 4,
   "metadata": {},
   "outputs": [
    {
     "name": "stdout",
     "output_type": "stream",
     "text": [
      "0.5\n",
      "На ноль делить нельзя\n"
     ]
    }
   ],
   "source": [
    "def division(num_1, num_2):\n",
    "    if num_2 == 0:\n",
    "        return \"На ноль делить нельзя\"\n",
    "    return num_1 / num_2\n",
    "\n",
    "print(division(1, 2))\n",
    "print(division(1, 0))"
   ]
  },
  {
   "cell_type": "code",
   "execution_count": 5,
   "metadata": {},
   "outputs": [
    {
     "name": "stdout",
     "output_type": "stream",
     "text": [
      "0.5\n",
      "На ноль делить нельзя\n"
     ]
    }
   ],
   "source": [
    "def division(num_1, num_2):\n",
    "    try:\n",
    "        return num_1 / num_2\n",
    "    except:\n",
    "        return \"На ноль делить нельзя\"\n",
    "\n",
    "print(division(1, 2))\n",
    "print(division(1, 0))"
   ]
  },
  {
   "cell_type": "code",
   "execution_count": 18,
   "metadata": {},
   "outputs": [
    {
     "name": "stdout",
     "output_type": "stream",
     "text": [
      "0.5\n",
      "Infinity\n",
      "Аргументы должны быть числами\n",
      "0.5\n"
     ]
    }
   ],
   "source": [
    "def division(num_1, num_2):\n",
    "    try:\n",
    "        return num_1 / num_2\n",
    "    except ZeroDivisionError:\n",
    "        return \"Infinity\"\n",
    "    except TypeError:\n",
    "        try:\n",
    "            num_1 = float(num_1)\n",
    "            num_2 = float(num_2)\n",
    "            return division(num_1, num_2)\n",
    "        except ValueError:\n",
    "            return \"Аргументы должны быть числами\"\n",
    "    except Exception as e:\n",
    "        return f\"Ошибка - {e}\"\n",
    "\n",
    "print(division(1, 2))\n",
    "print(division(1, 0))\n",
    "print(division(1, \"два\"))\n",
    "print(division(1, \"2\"))"
   ]
  },
  {
   "cell_type": "markdown",
   "metadata": {},
   "source": [
    "# ДЗ -  в программе Магазин добавить одну обработку ошибок"
   ]
  },
  {
   "cell_type": "markdown",
   "metadata": {},
   "source": [
    "# ___"
   ]
  },
  {
   "cell_type": "markdown",
   "metadata": {},
   "source": [
    "# Трансформерфы"
   ]
  },
  {
   "cell_type": "code",
   "execution_count": 30,
   "metadata": {},
   "outputs": [
    {
     "data": {
      "text/plain": [
       "150"
      ]
     },
     "execution_count": 30,
     "metadata": {},
     "output_type": "execute_result"
    }
   ],
   "source": [
    "class Bot:\n",
    "    def __init__(self, max_speed=100, trans_form=\"Car\"):\n",
    "        self.speed = 0\n",
    "        self.max_speed = max_speed\n",
    "        self.trans_form = trans_form\n",
    "    \n",
    "    def transform(self):\n",
    "        self.max_speed = self.max_speed * 2\n",
    "        \n",
    "    def untransform(self):\n",
    "        self.max_speed = self.max_speed // 2\n",
    "\n",
    "        \n",
    "mike = Bot(150, \"Bicycle\")\n",
    "mike.trans_form\n",
    "mike.transform()\n",
    "mike.max_speed\n",
    "mike.untransform()\n",
    "mike.max_speed"
   ]
  },
  {
   "cell_type": "markdown",
   "metadata": {},
   "source": [
    "###### Наследование"
   ]
  },
  {
   "cell_type": "code",
   "execution_count": 35,
   "metadata": {},
   "outputs": [
    {
     "name": "stdout",
     "output_type": "stream",
     "text": [
      "Bot\n",
      "Bot\n",
      "F22\n"
     ]
    }
   ],
   "source": [
    "class Bot:\n",
    "    def __init__(self, max_speed=100, trans_form=\"Car\"):\n",
    "        self.speed = 0\n",
    "        self.max_speed = max_speed\n",
    "        self.trans_form = trans_form\n",
    "        self.curr_form = \"Bot\"\n",
    "    \n",
    "    def transform(self):\n",
    "        self.max_speed = self.max_speed * 2\n",
    "        self.curr_form = self.trans_form\n",
    "        \n",
    "    def untransform(self):\n",
    "        self.max_speed = self.max_speed // 2\n",
    "        self.curr_form = \"Bot\"\n",
    "\n",
    "        \n",
    "class AutoBot(Bot):\n",
    "    pass\n",
    "\n",
    "class DesBot(Bot):\n",
    "    pass\n",
    "\n",
    "nik = AutoBot()\n",
    "print(nik.curr_form)\n",
    "\n",
    "grr = DesBot(max_speed=200, trans_form=\"F22\")\n",
    "print(grr.curr_form)\n",
    "grr.transform()\n",
    "print(grr.curr_form)"
   ]
  },
  {
   "cell_type": "markdown",
   "metadata": {},
   "source": [
    "###### Переопределение параметров и методов"
   ]
  },
  {
   "cell_type": "code",
   "execution_count": 56,
   "metadata": {},
   "outputs": [
    {
     "name": "stdout",
     "output_type": "stream",
     "text": [
      "ABot\n",
      "Nik runnig!!\n",
      "50\n",
      "0\n",
      "\n",
      "DBot\n",
      "F22\n",
      "<class '__main__.AutoBot'>\n",
      "['__class__', '__delattr__', '__dict__', '__dir__', '__doc__', '__eq__', '__format__', '__ge__', '__getattribute__', '__gt__', '__hash__', '__init__', '__init_subclass__', '__le__', '__lt__', '__module__', '__ne__', '__new__', '__reduce__', '__reduce_ex__', '__repr__', '__setattr__', '__sizeof__', '__str__', '__subclasshook__', '__weakref__', 'curr_form', 'height', 'max_speed', 'run', 'speed', 'stop', 'trans_form', 'transform', 'untransform']\n"
     ]
    }
   ],
   "source": [
    "class Bot:\n",
    "    def __init__(self, max_speed=1000, trans_form=\"Mech\"):\n",
    "        self.speed = 0\n",
    "        self.max_speed = max_speed\n",
    "        self.trans_form = trans_form\n",
    "        self.curr_form = \"Bot\"\n",
    "        self.height = 10\n",
    "    \n",
    "    def transform(self):\n",
    "        self.max_speed = self.max_speed * 2\n",
    "        self.curr_form = self.trans_form\n",
    "        \n",
    "    def untransform(self):\n",
    "        self.max_speed = self.max_speed // 2\n",
    "        self.curr_form = \"Bot\"\n",
    "        \n",
    "    def run(self, speed):\n",
    "        self.speed = min(speed, self.max_speed)\n",
    "        \n",
    "    def stop(self):\n",
    "        self.speed = 0\n",
    "\n",
    "        \n",
    "class AutoBot(Bot):\n",
    "    def __init__(self, max_speed=100, trans_form=\"Car\"):    \n",
    "        super().__init__(max_speed, trans_form)\n",
    "        self.curr_form = \"ABot\"\n",
    "    \n",
    "    def transform(self):\n",
    "        self.max_speed = self.max_speed * 5\n",
    "        self.curr_form = self.trans_form\n",
    "    \n",
    "    def untransform(self):\n",
    "        self.max_speed = self.max_speed // 2\n",
    "        self.curr_form = \"ABot\"\n",
    "\n",
    "\n",
    "class DesBot(Bot):\n",
    "    def __init__(self, max_speed=200, trans_form=\"Airplane\"):\n",
    "        super().__init__(max_speed, trans_form)\n",
    "        self.curr_form = \"DBot\"\n",
    "    \n",
    "    def transform(self):\n",
    "        self.max_speed = self.max_speed * 10\n",
    "        self.height = self.height * 10\n",
    "        self.curr_form = self.trans_form\n",
    "    \n",
    "    def untransform(self):\n",
    "        self.max_speed = self.max_speed // 10\n",
    "        self.height = self.height // 10\n",
    "        self.curr_form = \"DBot\"\n",
    "        \n",
    "    \n",
    "\n",
    "        \n",
    "nik = AutoBot()\n",
    "print(nik.curr_form)\n",
    "print(\"Nik runnig!!\")\n",
    "nik.run(50)\n",
    "print(nik.speed)\n",
    "nik.stop()\n",
    "print(nik.speed)\n",
    "print()\n",
    "grr = DesBot(max_speed=200, trans_form=\"F22\")\n",
    "print(grr.curr_form)\n",
    "grr.transform()\n",
    "print(grr.curr_form)\n",
    "\n",
    "print(type(nik))\n",
    "print(dir(nik))"
   ]
  },
  {
   "cell_type": "markdown",
   "metadata": {},
   "source": [
    "###### Переопределение операций"
   ]
  },
  {
   "cell_type": "code",
   "execution_count": 57,
   "metadata": {},
   "outputs": [
    {
     "name": "stdout",
     "output_type": "stream",
     "text": [
      "<class 'int'>\n",
      "['__abs__', '__add__', '__and__', '__bool__', '__ceil__', '__class__', '__delattr__', '__dir__', '__divmod__', '__doc__', '__eq__', '__float__', '__floor__', '__floordiv__', '__format__', '__ge__', '__getattribute__', '__getnewargs__', '__gt__', '__hash__', '__index__', '__init__', '__init_subclass__', '__int__', '__invert__', '__le__', '__lshift__', '__lt__', '__mod__', '__mul__', '__ne__', '__neg__', '__new__', '__or__', '__pos__', '__pow__', '__radd__', '__rand__', '__rdivmod__', '__reduce__', '__reduce_ex__', '__repr__', '__rfloordiv__', '__rlshift__', '__rmod__', '__rmul__', '__ror__', '__round__', '__rpow__', '__rrshift__', '__rshift__', '__rsub__', '__rtruediv__', '__rxor__', '__setattr__', '__sizeof__', '__str__', '__sub__', '__subclasshook__', '__truediv__', '__trunc__', '__xor__', 'as_integer_ratio', 'bit_length', 'conjugate', 'denominator', 'from_bytes', 'imag', 'numerator', 'real', 'to_bytes']\n"
     ]
    }
   ],
   "source": [
    "a_int = 5\n",
    "print(type(a_int))\n",
    "print(dir(a_int))"
   ]
  },
  {
   "cell_type": "code",
   "execution_count": 58,
   "metadata": {},
   "outputs": [
    {
     "data": {
      "text/plain": [
       "9"
      ]
     },
     "execution_count": 58,
     "metadata": {},
     "output_type": "execute_result"
    }
   ],
   "source": [
    "4 + 5"
   ]
  },
  {
   "cell_type": "code",
   "execution_count": 59,
   "metadata": {},
   "outputs": [
    {
     "ename": "SyntaxError",
     "evalue": "invalid syntax (<ipython-input-59-349f4d54e22b>, line 1)",
     "output_type": "error",
     "traceback": [
      "\u001b[1;36m  File \u001b[1;32m\"<ipython-input-59-349f4d54e22b>\"\u001b[1;36m, line \u001b[1;32m1\u001b[0m\n\u001b[1;33m    4.__add__(5)\u001b[0m\n\u001b[1;37m      ^\u001b[0m\n\u001b[1;31mSyntaxError\u001b[0m\u001b[1;31m:\u001b[0m invalid syntax\n"
     ]
    }
   ],
   "source": [
    "4.__add__(5)"
   ]
  },
  {
   "cell_type": "code",
   "execution_count": 60,
   "metadata": {},
   "outputs": [
    {
     "name": "stdout",
     "output_type": "stream",
     "text": [
      "<__main__.AutoBot object at 0x0704A3A0>\n"
     ]
    }
   ],
   "source": [
    "class Bot:\n",
    "    def __init__(self, max_speed=1000, trans_form=\"Mech\"):\n",
    "        self.speed = 0\n",
    "        self.max_speed = max_speed\n",
    "        self.trans_form = trans_form\n",
    "        self.curr_form = \"Bot\"\n",
    "        self.height = 10\n",
    "    \n",
    "    def transform(self):\n",
    "        self.max_speed = self.max_speed * 2\n",
    "        self.curr_form = self.trans_form\n",
    "        \n",
    "    def untransform(self):\n",
    "        self.max_speed = self.max_speed // 2\n",
    "        self.curr_form = \"Bot\"\n",
    "        \n",
    "    def run(self, speed):\n",
    "        self.speed = min(speed, self.max_speed)\n",
    "        \n",
    "    def stop(self):\n",
    "        self.speed = 0\n",
    "        \n",
    "    def __add__(self, other):\n",
    "        ultra_bot = Bot(trans_form=\"Track\")\n",
    "        ultra_bot.max_speed = max(self.max_speed, other.max_speed)\n",
    "        ultra_bot.height = self.height + other.height\n",
    "        return ultra_bot\n",
    "    \n",
    "    def __str__(self):\n",
    "        return f\"{self.speed} / {self.max_speed} - {self.curr_form} / {self.trans_form} h: {self.height}\"\n",
    "\n",
    "        \n",
    "class AutoBot(Bot):\n",
    "    def __init__(self, max_speed=100, trans_form=\"Car\"):    \n",
    "        super().__init__(max_speed, trans_form)\n",
    "        self.curr_form = \"ABot\"\n",
    "    \n",
    "    def transform(self):\n",
    "        self.max_speed = self.max_speed * 5\n",
    "        self.curr_form = self.trans_form\n",
    "    \n",
    "    def untransform(self):\n",
    "        self.max_speed = self.max_speed // 2\n",
    "        self.curr_form = \"ABot\"\n",
    "\n",
    "\n",
    "class DesBot(Bot):\n",
    "    def __init__(self, max_speed=200, trans_form=\"Airplane\"):\n",
    "        super().__init__(max_speed, trans_form)\n",
    "        self.curr_form = \"DBot\"\n",
    "    \n",
    "    def transform(self):\n",
    "        self.max_speed = self.max_speed * 10\n",
    "        self.height = self.height * 10\n",
    "        self.curr_form = self.trans_form\n",
    "    \n",
    "    def untransform(self):\n",
    "        self.max_speed = self.max_speed // 10\n",
    "        self.height = self.height // 10\n",
    "        self.curr_form = \"DBot\"\n",
    "        \n",
    "        \n",
    "john = AutoBot(150, \"Tractor\")\n",
    "mark = AutoBot(80, \"Moto\")\n",
    "print(john)"
   ]
  },
  {
   "cell_type": "code",
   "execution_count": null,
   "metadata": {},
   "outputs": [],
   "source": []
  }
 ],
 "metadata": {
  "kernelspec": {
   "display_name": "Python 3",
   "language": "python",
   "name": "python3"
  },
  "language_info": {
   "codemirror_mode": {
    "name": "ipython",
    "version": 3
   },
   "file_extension": ".py",
   "mimetype": "text/x-python",
   "name": "python",
   "nbconvert_exporter": "python",
   "pygments_lexer": "ipython3",
   "version": "3.8.2"
  }
 },
 "nbformat": 4,
 "nbformat_minor": 4
}
