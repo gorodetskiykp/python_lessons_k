{
 "cells": [
  {
   "cell_type": "raw",
   "metadata": {},
   "source": [
    "S = 'str'; S = \"str\"; S = '''str'''; S = \"\"\"str\"\"\"\n",
    "Литералы строк\n",
    "S = \"s\\np\\ta\\nbbb\"\n",
    "Экранированные последовательности\n",
    "S = r\"C:\\temp\\new\"\n",
    "Неформатированные строки (подавляют экранирование)\n",
    "S = b\"byte\"\n",
    "Строка байтов\n",
    "S1 + S2\n",
    "Конкатенация (сложение строк)\n",
    "S1 * 3\n",
    "Повторение строки\n",
    "S[i]\n",
    "Обращение по индексу\n",
    "S[i:j:step]\n",
    "Извлечение среза\n",
    "len(S)\n",
    "Длина строки\n",
    "S.find(str, [start],[end])\n",
    "Поиск подстроки в строке. Возвращает номер первого вхождения или -1\n",
    "S.rfind(str, [start],[end])\n",
    "Поиск подстроки в строке. Возвращает номер последнего вхождения или -1\n",
    "S.index(str, [start],[end])\n",
    "Поиск подстроки в строке. Возвращает номер первого вхождения или вызывает ValueError\n",
    "S.rindex(str, [start],[end])\n",
    "Поиск подстроки в строке. Возвращает номер последнего вхождения или вызывает ValueError\n",
    "S.replace(шаблон, замена)\n",
    "Замена шаблона\n",
    "S.split(символ)\n",
    "Разбиение строки по разделителю\n",
    "S.isdigit()\n",
    "Состоит ли строка из цифр\n",
    "S.isalpha()\n",
    "Состоит ли строка из букв\n",
    "S.isalnum()\n",
    "Состоит ли строка из цифр или букв\n",
    "S.islower()\n",
    "Состоит ли строка из символов в нижнем регистре\n",
    "S.isupper()\n",
    "Состоит ли строка из символов в верхнем регистре\n",
    "S.isspace()\n",
    "Состоит ли строка из неотображаемых символов (пробел, символ перевода страницы ('\\f'), \"новая строка\" ('\\n'), \"перевод каретки\" ('\\r'), \"горизонтальная табуляция\" ('\\t') и \"вертикальная табуляция\" ('\\v'))\n",
    "S.istitle()\n",
    "Начинаются ли слова в строке с заглавной буквы\n",
    "S.upper()\n",
    "Преобразование строки к верхнему регистру\n",
    "S.lower()\n",
    "Преобразование строки к нижнему регистру\n",
    "S.startswith(str)\n",
    "Начинается ли строка S с шаблона str\n",
    "S.endswith(str)\n",
    "Заканчивается ли строка S шаблоном str\n",
    "S.join(список)\n",
    "Сборка строки из списка с разделителем S\n",
    "ord(символ)\n",
    "Символ в его код ASCII\n",
    "chr(число)\n",
    "Код ASCII в символ\n",
    "S.capitalize()\n",
    "Переводит первый символ строки в верхний регистр, а все остальные в нижний\n",
    "S.center(width, [fill])\n",
    "Возвращает отцентрованную строку, по краям которой стоит символ fill (пробел по умолчанию)\n",
    "S.count(str, [start],[end])\n",
    "Возвращает количество непересекающихся вхождений подстроки в диапазоне [начало, конец] (0 и длина строки по умолчанию)\n",
    "S.expandtabs([tabsize])\n",
    "Возвращает копию строки, в которой все символы табуляции заменяются одним или несколькими пробелами, в зависимости от текущего столбца. Если TabSize не указан, размер табуляции полагается равным 8 пробелам\n",
    "S.lstrip([chars])\n",
    "Удаление пробельных символов в начале строки\n",
    "S.rstrip([chars])\n",
    "Удаление пробельных символов в конце строки\n",
    "S.strip([chars])\n",
    "Удаление пробельных символов в начале и в конце строки\n",
    "S.partition(шаблон)\n",
    "Возвращает кортеж, содержащий часть перед первым шаблоном, сам шаблон, и часть после шаблона. Если шаблон не найден, возвращается кортеж, содержащий саму строку, а затем две пустых строки\n",
    "S.rpartition(sep)\n",
    "Возвращает кортеж, содержащий часть перед последним шаблоном, сам шаблон, и часть после шаблона. Если шаблон не найден, возвращается кортеж, содержащий две пустых строки, а затем саму строку\n",
    "S.swapcase()\n",
    "Переводит символы нижнего регистра в верхний, а верхнего – в нижний\n",
    "S.title()\n",
    "Первую букву каждого слова переводит в верхний регистр, а все остальные в нижний\n",
    "S.zfill(width)\n",
    "Делает длину строки не меньшей width, по необходимости заполняя первые символы нулями\n",
    "S.ljust(width, fillchar=\" \")\n",
    "Делает длину строки не меньшей width, по необходимости заполняя последние символы символом fillchar\n",
    "S.rjust(width, fillchar=\" \")\n",
    "Делает длину строки не меньшей width, по необходимости заполняя первые символы символом fillchar\n",
    "S.format(*args, **kwargs)\n",
    "Форматирование строки"
   ]
  },
  {
   "cell_type": "raw",
   "metadata": {},
   "source": [
    "list.append(x)\n",
    "Добавляет элемент в конец списка\n",
    "list.extend(L)\n",
    "Расширяет список list, добавляя в конец все элементы списка L\n",
    "list.insert(i, x)\n",
    "Вставляет на i-ый элемент значение x\n",
    "list.remove(x)\n",
    "Удаляет первый элемент в списке, имеющий значение x. ValueError, если такого элемента не существует\n",
    "list.pop([i])\n",
    "Удаляет i-ый элемент и возвращает его. Если индекс не указан, удаляется последний элемент\n",
    "list.index(x, [start [, end]])\n",
    "Возвращает положение первого элемента со значением x (при этом поиск ведется от start до end)\n",
    "list.count(x)\n",
    "Возвращает количество элементов со значением x\n",
    "list.sort([key=функция])\n",
    "Сортирует список на основе функции\n",
    "list.reverse()\n",
    "Разворачивает список\n",
    "list.copy()\n",
    "Поверхностная копия списка\n",
    "list.clear()\n",
    "Очищает список"
   ]
  },
  {
   "cell_type": "markdown",
   "metadata": {},
   "source": [
    "Функция - имя_функции(аргументы) - len([1, 2, 3]) = 3\n",
    "Метод - объект.имя_метода(аргументы) - [1, 2, 3].append([4, 5, 6]) == [1, 2, 3, 4, 5, 6]"
   ]
  },
  {
   "cell_type": "markdown",
   "metadata": {},
   "source": [
    "# Методы и функции строк"
   ]
  },
  {
   "cell_type": "code",
   "execution_count": 2,
   "metadata": {},
   "outputs": [
    {
     "name": "stdout",
     "output_type": "stream",
     "text": [
      "qwerty4\n"
     ]
    }
   ],
   "source": [
    "string_name = 'qwerty1'\n",
    "string_name = \"qwerty2\"\n",
    "string_name = \"\"\"qwerty3\"\"\"\n",
    "string_name = '''qwerty4'''\n",
    "print(string_name)"
   ]
  },
  {
   "cell_type": "code",
   "execution_count": 10,
   "metadata": {},
   "outputs": [
    {
     "name": "stdout",
     "output_type": "stream",
     "text": [
      "qwerty1\n",
      "qwerty2\n",
      "qwerty1\tqwerty2\n",
      "qwerty1'qwerty2\n",
      "qwerty1\\qwerty2\n",
      "C:\\temp\\new\n"
     ]
    }
   ],
   "source": [
    "string_name_1 = 'qwerty1\\nqwerty2'\n",
    "print(string_name_1)\n",
    "string_name_2 = 'qwerty1\\tqwerty2'\n",
    "print(string_name_2)\n",
    "string_name_3 = 'qwerty1\\'qwerty2'\n",
    "print(string_name_3)\n",
    "string_name_4 = 'qwerty1\\\\qwerty2'\n",
    "print(string_name_4)\n",
    "string_name_5 = r\"C:\\temp\\new\"\n",
    "print(string_name_5)"
   ]
  },
  {
   "cell_type": "code",
   "execution_count": 12,
   "metadata": {},
   "outputs": [
    {
     "name": "stdout",
     "output_type": "stream",
     "text": [
      "q\n"
     ]
    },
    {
     "ename": "TypeError",
     "evalue": "'str' object does not support item assignment",
     "output_type": "error",
     "traceback": [
      "\u001b[1;31m---------------------------------------------------------------------------\u001b[0m",
      "\u001b[1;31mTypeError\u001b[0m                                 Traceback (most recent call last)",
      "\u001b[1;32m<ipython-input-12-a7ba4d29808a>\u001b[0m in \u001b[0;36m<module>\u001b[1;34m\u001b[0m\n\u001b[0;32m      1\u001b[0m \u001b[0mstring_name\u001b[0m \u001b[1;33m=\u001b[0m \u001b[1;34m'qwerty'\u001b[0m\u001b[1;33m\u001b[0m\u001b[1;33m\u001b[0m\u001b[0m\n\u001b[0;32m      2\u001b[0m \u001b[0mprint\u001b[0m\u001b[1;33m(\u001b[0m\u001b[0mstring_name\u001b[0m\u001b[1;33m[\u001b[0m\u001b[1;36m0\u001b[0m\u001b[1;33m]\u001b[0m\u001b[1;33m)\u001b[0m\u001b[1;33m\u001b[0m\u001b[1;33m\u001b[0m\u001b[0m\n\u001b[1;32m----> 3\u001b[1;33m \u001b[0mstring_name\u001b[0m\u001b[1;33m[\u001b[0m\u001b[1;36m0\u001b[0m\u001b[1;33m]\u001b[0m \u001b[1;33m=\u001b[0m \u001b[1;34m'Q'\u001b[0m\u001b[1;33m\u001b[0m\u001b[1;33m\u001b[0m\u001b[0m\n\u001b[0m",
      "\u001b[1;31mTypeError\u001b[0m: 'str' object does not support item assignment"
     ]
    }
   ],
   "source": [
    "string_name = 'qwerty'\n",
    "print(string_name[0])\n",
    "string_name[0] = 'Q'"
   ]
  },
  {
   "cell_type": "code",
   "execution_count": 16,
   "metadata": {},
   "outputs": [
    {
     "name": "stdout",
     "output_type": "stream",
     "text": [
      "qwerty1qwerty2\n",
      "Qwerty\n",
      "qwertyqwertyqwertyqwertyqwertyqwertyqwertyqwertyqwertyqwerty\n"
     ]
    }
   ],
   "source": [
    "string_name = 'qwerty1' + 'qwerty2'\n",
    "print(string_name)\n",
    "\n",
    "string_name = 'qwerty'\n",
    "string_name = string_name[0].upper() + string_name[1:]\n",
    "print(string_name)\n",
    "\n",
    "string_name = 'qwerty' * 10\n",
    "print(string_name)"
   ]
  },
  {
   "cell_type": "code",
   "execution_count": 29,
   "metadata": {},
   "outputs": [
    {
     "name": "stdout",
     "output_type": "stream",
     "text": [
      "3\n",
      ".find()\n",
      "3\n",
      "9\n",
      "9\n",
      "-1\n",
      "33\n",
      ".index()\n",
      "3\n",
      "9\n",
      "9\n",
      "33\n"
     ]
    },
    {
     "ename": "ValueError",
     "evalue": "substring not found",
     "output_type": "error",
     "traceback": [
      "\u001b[1;31m---------------------------------------------------------------------------\u001b[0m",
      "\u001b[1;31mValueError\u001b[0m                                Traceback (most recent call last)",
      "\u001b[1;32m<ipython-input-29-800d960dbe14>\u001b[0m in \u001b[0;36m<module>\u001b[1;34m\u001b[0m\n\u001b[0;32m     13\u001b[0m \u001b[0mprint\u001b[0m\u001b[1;33m(\u001b[0m\u001b[0mstring_name\u001b[0m\u001b[1;33m.\u001b[0m\u001b[0mindex\u001b[0m\u001b[1;33m(\u001b[0m\u001b[1;34m'r'\u001b[0m\u001b[1;33m,\u001b[0m \u001b[1;36m4\u001b[0m\u001b[1;33m,\u001b[0m \u001b[1;36m10\u001b[0m\u001b[1;33m)\u001b[0m\u001b[1;33m)\u001b[0m\u001b[1;33m\u001b[0m\u001b[1;33m\u001b[0m\u001b[0m\n\u001b[0;32m     14\u001b[0m \u001b[0mprint\u001b[0m\u001b[1;33m(\u001b[0m\u001b[0mstring_name\u001b[0m\u001b[1;33m.\u001b[0m\u001b[0mrindex\u001b[0m\u001b[1;33m(\u001b[0m\u001b[1;34m'r'\u001b[0m\u001b[1;33m)\u001b[0m\u001b[1;33m)\u001b[0m\u001b[1;33m\u001b[0m\u001b[1;33m\u001b[0m\u001b[0m\n\u001b[1;32m---> 15\u001b[1;33m \u001b[0mprint\u001b[0m\u001b[1;33m(\u001b[0m\u001b[0mstring_name\u001b[0m\u001b[1;33m.\u001b[0m\u001b[0mindex\u001b[0m\u001b[1;33m(\u001b[0m\u001b[1;34m'R'\u001b[0m\u001b[1;33m)\u001b[0m\u001b[1;33m)\u001b[0m\u001b[1;33m\u001b[0m\u001b[1;33m\u001b[0m\u001b[0m\n\u001b[0m",
      "\u001b[1;31mValueError\u001b[0m: substring not found"
     ]
    }
   ],
   "source": [
    "string_name = 'qwerty'\n",
    "print(string_name.find('r'))\n",
    "string_name = 'qwertyqwertyqwertyqwertyqwertyqwerty'\n",
    "print(\".find()\")\n",
    "print(string_name.find('rt'))\n",
    "print(string_name.find('r', 4))\n",
    "print(string_name.find('r', 4, 10))\n",
    "print(string_name.find('R'))\n",
    "print(string_name.rfind('r'))\n",
    "print(\".index()\")\n",
    "print(string_name.index('r'))\n",
    "print(string_name.index('r', 4))\n",
    "print(string_name.index('r', 4, 10))\n",
    "print(string_name.rindex('r'))\n",
    "print(string_name.index('R'))"
   ]
  },
  {
   "cell_type": "code",
   "execution_count": 33,
   "metadata": {},
   "outputs": [
    {
     "name": "stdout",
     "output_type": "stream",
     "text": [
      "qwerty qwerty\n",
      "Qrty Qrty\n"
     ]
    }
   ],
   "source": [
    "string_name = 'qwerty qwerty'\n",
    "new_string_name = string_name.replace(\"qwe\", \"Q\")\n",
    "print(f\"{string_name}\\n{new_string_name}\")"
   ]
  },
  {
   "cell_type": "code",
   "execution_count": 35,
   "metadata": {},
   "outputs": [
    {
     "name": "stdout",
     "output_type": "stream",
     "text": [
      "qwerty qwerty\n",
      "['qwerty', 'qwerty']\n",
      "8-924-151-66-77\n",
      "['8', '924', '151', '66', '77']\n"
     ]
    }
   ],
   "source": [
    "string_name = 'qwerty qwerty'\n",
    "list_name = string_name.split()\n",
    "print(f\"{string_name}\\n{list_name}\")\n",
    "\n",
    "string_name = '8-924-151-66-77'\n",
    "list_name = string_name.split('-')\n",
    "print(f\"{string_name}\\n{list_name}\")"
   ]
  },
  {
   "cell_type": "code",
   "execution_count": 43,
   "metadata": {
    "scrolled": true
   },
   "outputs": [
    {
     "name": "stdout",
     "output_type": "stream",
     "text": [
      "False\n",
      "True\n",
      "False\n",
      "True\n",
      "False\n",
      "True\n"
     ]
    }
   ],
   "source": [
    "string_name = 'qwerty qwerty'\n",
    "print(string_name.isalpha())\n",
    "print(\"Qwerty\".isalpha())\n",
    "print(\"Qwerty\".isdigit())\n",
    "print(\"432221\".isdigit())\n",
    "print(\"432221wq\".isdigit())\n",
    "print(\"432221wq\".isalnum())"
   ]
  },
  {
   "cell_type": "code",
   "execution_count": 52,
   "metadata": {},
   "outputs": [
    {
     "name": "stdout",
     "output_type": "stream",
     "text": [
      "QWERTY\n",
      "qwertyy\n",
      "False\n",
      "False\n",
      "True\n",
      "True\n",
      "Qwerty qwerty\n",
      "Qwerty Qwerty\n",
      "True\n"
     ]
    }
   ],
   "source": [
    "print(\"qwerty\".upper())\n",
    "print(\"qWeRtYY\".lower())\n",
    "\n",
    "print(\"qwRRRty\".isupper())\n",
    "print(\"qWeRtYY\".islower())\n",
    "\n",
    "print(\"RRR\".isupper())\n",
    "print(\"qet\".islower())\n",
    "\n",
    "print(\"qwerty qwerty\".capitalize())\n",
    "print(\"qwerty qwerty\".title())\n",
    "\n",
    "print(\"Qwerty Qwerty\".istitle())"
   ]
  },
  {
   "cell_type": "code",
   "execution_count": 55,
   "metadata": {},
   "outputs": [
    {
     "name": "stdout",
     "output_type": "stream",
     "text": [
      "True\n",
      "True\n"
     ]
    }
   ],
   "source": [
    "print(\"qwerty\".startswith(\"qw\"))\n",
    "print(\"qwerty\".endswith(\"y\"))"
   ]
  },
  {
   "cell_type": "code",
   "execution_count": 61,
   "metadata": {},
   "outputs": [
    {
     "name": "stdout",
     "output_type": "stream",
     "text": [
      "Расширяет список list, добавляя в конец все элементы списка L\n",
      "['Расширяет', 'список', 'list', 'добавляя', 'в', 'конец', 'все', 'элементы', 'списка', 'L']\n",
      "РАСШИРЯЕТ--СПИСОК--LIST--ДОБАВЛЯЯ--В--КОНЕЦ--ВСЕ--ЭЛЕМЕНТЫ--СПИСКА--L\n"
     ]
    }
   ],
   "source": [
    "raw_string = \"Расширяет список list, добавляя в конец все элементы списка L\"\n",
    "print(raw_string)\n",
    "raw_string = raw_string.replace(\",\", \"\")\n",
    "raw_list = raw_string.split()\n",
    "print(raw_list)\n",
    "\n",
    "result_list = []\n",
    "for word in raw_list:\n",
    "    result_list.append(word.upper())\n",
    "\n",
    "print('--'.join(result_list))"
   ]
  },
  {
   "cell_type": "markdown",
   "metadata": {},
   "source": [
    "### Кодировки"
   ]
  },
  {
   "cell_type": "markdown",
   "metadata": {},
   "source": [
    "Таблица кодировки: utf-8, cp1251, ascii\n",
    "'Д' - 89 (cp1251)\n",
    "'%' - 89 (utf-8)\n",
    "'д' - 150"
   ]
  },
  {
   "cell_type": "code",
   "execution_count": 73,
   "metadata": {},
   "outputs": [
    {
     "name": "stdout",
     "output_type": "stream",
     "text": [
      "1044\n",
      "੩\n"
     ]
    }
   ],
   "source": [
    "print(ord(\"Д\"))\n",
    "print(chr(2665))"
   ]
  },
  {
   "cell_type": "code",
   "execution_count": 75,
   "metadata": {},
   "outputs": [
    {
     "name": "stdout",
     "output_type": "stream",
     "text": [
      "61\n"
     ]
    },
    {
     "data": {
      "text/plain": [
       "6"
      ]
     },
     "execution_count": 75,
     "metadata": {},
     "output_type": "execute_result"
    }
   ],
   "source": [
    "raw_string = \"Расширяет список list, добавляя в конец все элементы списка L\"\n",
    "print(len(raw_string))\n",
    "raw_string.count(\"с\")"
   ]
  },
  {
   "cell_type": "code",
   "execution_count": 81,
   "metadata": {},
   "outputs": [
    {
     "name": "stdout",
     "output_type": "stream",
     "text": [
      "НАЧАЛО\n",
      "                                               НАЧАЛО                                               \n",
      "-----------------------------------------------НАЧАЛО-----------------------------------------------\n",
      "НАЧАЛО----------------------------------------------------------------------------------------------\n",
      "----------------------------------------------------------------------------------------------НАЧАЛО\n"
     ]
    }
   ],
   "source": [
    "print(\"НАЧАЛО\")\n",
    "print(\"НАЧАЛО\".center(100))\n",
    "print(\"НАЧАЛО\".center(100, \"-\"))\n",
    "print(\"НАЧАЛО\".ljust(100, \"-\"))\n",
    "print(\"НАЧАЛО\".rjust(100, \"-\"))"
   ]
  },
  {
   "cell_type": "code",
   "execution_count": 84,
   "metadata": {},
   "outputs": [
    {
     "name": "stdout",
     "output_type": "stream",
     "text": [
      "Этот товар стоит 525 руб. 50 коп.\n",
      "Этот товар стоит 525 руб. 50 коп. (525,50)\n",
      "Этот товар стоит 525 руб. 50 коп. (525,50)\n"
     ]
    }
   ],
   "source": [
    "print(\"Этот товар стоит {} руб. {} коп.\".format(525, 50))\n",
    "print(\"Этот товар стоит {0} руб. {1} коп. ({0},{1})\".format(525, 50))\n",
    "print(\"Этот товар стоит {rub} руб. {kop} коп. ({rub},{kop})\".format(rub=525, kop=50))"
   ]
  },
  {
   "cell_type": "markdown",
   "metadata": {},
   "source": [
    "# Методы и функции списков"
   ]
  },
  {
   "cell_type": "code",
   "execution_count": 91,
   "metadata": {},
   "outputs": [
    {
     "name": "stdout",
     "output_type": "stream",
     "text": [
      "[1, 2, 3, 4]\n",
      "['С', 'л', 'о', 'в', 'о']\n",
      "['Сло', 'о']\n",
      "[1, 16, 31, 46, 61, 76, 91]\n"
     ]
    }
   ],
   "source": [
    "a_list = [1, 2, 3, 4]\n",
    "print(a_list)\n",
    "a_list = list(\"Слово\")\n",
    "print(a_list)\n",
    "a_list = \"Слово\".split(\"в\")\n",
    "print(a_list)\n",
    "a_list = list(range(1, 100, 15))\n",
    "print(a_list)"
   ]
  },
  {
   "cell_type": "code",
   "execution_count": 98,
   "metadata": {
    "scrolled": true
   },
   "outputs": [
    {
     "name": "stdout",
     "output_type": "stream",
     "text": [
      "[1, 16, 31, 46, 61, 76, 91]\n",
      "7\n",
      "1\n",
      "[16, 31, 46]\n",
      "[1, 16, 31, 46, 61, 76, 91, [1, 38, 75, 112, 149, 186, 223, 260, 297]]\n",
      "[1, 16, 31, 46, 61, 76, 91, 1, 38, 75, 112, 149, 186, 223, 260, 297]\n",
      "[1, 16, 31, 46, 61, 76, 91, 1, 38, 75, 112, 149, 186, 223, 260, 297]\n"
     ]
    }
   ],
   "source": [
    "a_list = list(range(1, 100, 15))\n",
    "print(a_list)\n",
    "print(len(a_list))\n",
    "print(a_list[0])\n",
    "print(a_list[1:4])\n",
    "a_list.append(list(range(1, 300, 37)))\n",
    "print(a_list)\n",
    "a_list = list(range(1, 100, 15))\n",
    "a_list.extend(list(range(1, 300, 37)))\n",
    "print(a_list)\n",
    "a_list = list(range(1, 100, 15))\n",
    "print(a_list + list(range(1, 300, 37)))"
   ]
  },
  {
   "cell_type": "code",
   "execution_count": 104,
   "metadata": {},
   "outputs": [
    {
     "name": "stdout",
     "output_type": "stream",
     "text": [
      "[1, 16, 31, 46, 61, 76, 91]\n",
      "[1, 10, 16, 31, 46, 61, 76, 91]\n",
      "91\n",
      "[1, 10, 16, 31, 46, 61, 76]\n",
      "[1, 16, 31, 46, 61, 76]\n"
     ]
    }
   ],
   "source": [
    "a_list = list(range(1, 100, 15))\n",
    "print(a_list)\n",
    "a_list.insert(1, 10) \n",
    "print(a_list)\n",
    "item = a_list.pop() \n",
    "print(item)\n",
    "print(a_list)\n",
    "\n",
    "a_list.remove(10)\n",
    "print(a_list)"
   ]
  },
  {
   "cell_type": "code",
   "execution_count": 116,
   "metadata": {
    "scrolled": true
   },
   "outputs": [
    {
     "name": "stdout",
     "output_type": "stream",
     "text": [
      "[1, 16, 31, 46, 61, 76, 91, 100, 88, 76, 64, 52, 40, 28, 16, 4]\n",
      "[1, 4, 16, 16, 28, 31, 40, 46, 52, 61, 64, 76, 76, 88, 91, 100]\n",
      "\n",
      "[1, 16, 31, 46, 61, 76, 91, 100, 88, 76, 64, 52, 40, 28, 16, 4]\n",
      "[1, 4, 16, 16, 28, 31, 40, 46, 52, 61, 64, 76, 76, 88, 91, 100]\n",
      "[1, 16, 31, 46, 61, 76, 91, 100, 88, 76, 64, 52, 40, 28, 16, 4]\n",
      "\n",
      "[100, 91, 88, 76, 76, 64, 61, 52, 46, 40, 31, 28, 16, 16, 4, 1]\n",
      "[1, 4, 16, 16, 28, 31, 40, 46, 52, 61, 64, 76, 76, 88, 91, 100]\n"
     ]
    }
   ],
   "source": [
    "a_list = list(range(1, 100, 15)) + list(range(100, 1, -12))\n",
    "print(a_list)\n",
    "a_list.sort()\n",
    "print(a_list)\n",
    "print()\n",
    "a_list = list(range(1, 100, 15)) + list(range(100, 1, -12))\n",
    "print(a_list)\n",
    "print(sorted(a_list))\n",
    "print(a_list)\n",
    "print()\n",
    "a_list.sort()\n",
    "a_list.reverse()\n",
    "print(a_list)\n",
    "print(a_list[::-1])"
   ]
  },
  {
   "cell_type": "code",
   "execution_count": 120,
   "metadata": {},
   "outputs": [
    {
     "name": "stdout",
     "output_type": "stream",
     "text": [
      "[1, 2, 3, 4]\n",
      "[1, 2, 3, 4]\n",
      "\n",
      "[999, 2, 3, 4]\n",
      "[999, 2, 3, 4]\n",
      "\n",
      "[1, 2, 3, 4, 888]\n",
      "[1, 2, 3, 4, 888]\n"
     ]
    }
   ],
   "source": [
    "a_list = [1, 2, 3, 4]\n",
    "b_list = a_list\n",
    "print(a_list)\n",
    "print(b_list)\n",
    "print()\n",
    "a_list = [1, 2, 3, 4]\n",
    "b_list = a_list\n",
    "a_list[0] = 999\n",
    "print(a_list)\n",
    "print(b_list)\n",
    "print()\n",
    "a_list = [1, 2, 3, 4]\n",
    "b_list =a_list\n",
    "b_list.append(888)\n",
    "print(a_list)\n",
    "print(b_list)"
   ]
  },
  {
   "cell_type": "code",
   "execution_count": 123,
   "metadata": {
    "scrolled": false
   },
   "outputs": [
    {
     "name": "stdout",
     "output_type": "stream",
     "text": [
      "[1, 2, 3, 4]\n",
      "[1, 2, 3, 4]\n",
      "\n",
      "[999, 2, 3, 4]\n",
      "[1, 2, 3, 4]\n",
      "\n",
      "[999, 2, 3, 4]\n",
      "[1, 2, 3, 4]\n"
     ]
    }
   ],
   "source": [
    "a_list = [1, 2, 3, 4]\n",
    "b_list = a_list\n",
    "print(a_list)\n",
    "print(b_list)\n",
    "\n",
    "print()\n",
    "\n",
    "a_list = [1, 2, 3, 4]\n",
    "b_list = a_list.copy()\n",
    "a_list[0] = 999\n",
    "print(a_list)\n",
    "print(b_list)\n",
    "\n",
    "print()\n",
    "\n",
    "a_list = [1, 2, 3, 4]\n",
    "b_list = a_list[:]\n",
    "a_list[0] = 999\n",
    "print(a_list)\n",
    "print(b_list)"
   ]
  },
  {
   "cell_type": "code",
   "execution_count": 125,
   "metadata": {
    "scrolled": true
   },
   "outputs": [
    {
     "name": "stdout",
     "output_type": "stream",
     "text": [
      "[999, 2, 3, 4, [1, 2, 3, 4]]\n",
      "[1, 2, 3, 4, [1, 2, 3, 4]]\n",
      "[999, 2, 3, 4, [888, 2, 3, 4]]\n",
      "[1, 2, 3, 4, [888, 2, 3, 4]]\n"
     ]
    }
   ],
   "source": [
    "a_list = [1, 2, 3, 4, [1, 2, [\"one\", \"two\", [3, 6]], 4]]\n",
    "b_list = a_list.copy()\n",
    "a_list[0] = 999\n",
    "print(a_list)\n",
    "print(b_list)\n",
    "a_list[4][0] = 888\n",
    "print(a_list)\n",
    "print(b_list)"
   ]
  },
  {
   "cell_type": "code",
   "execution_count": 126,
   "metadata": {},
   "outputs": [
    {
     "name": "stdout",
     "output_type": "stream",
     "text": [
      "[]\n"
     ]
    }
   ],
   "source": [
    "a_list = [1, 2, 3, 4, [1, 2, [\"one\", \"two\", [3, 6]], 4]]\n",
    "a_list.clear()\n",
    "print(a_list)"
   ]
  },
  {
   "cell_type": "code",
   "execution_count": 130,
   "metadata": {
    "scrolled": false
   },
   "outputs": [
    {
     "name": "stdout",
     "output_type": "stream",
     "text": [
      "[1, 2, 3, 4, 2, 2]\n",
      "[1, 3, 4, 2, 2]\n",
      "[1, 3, 4, 2]\n",
      "[3, 4, 2]\n",
      "[3, 2]\n"
     ]
    }
   ],
   "source": [
    "a_list = [1, 2, 3, 4, 2, 2]\n",
    "print(a_list)\n",
    "a_list.remove(2)\n",
    "print(a_list)\n",
    "a_list.pop()\n",
    "print(a_list)\n",
    "a_list.pop(0)\n",
    "print(a_list)\n",
    "a_list.pop(1)\n",
    "print(a_list)"
   ]
  },
  {
   "cell_type": "markdown",
   "metadata": {},
   "source": [
    "# Создание списков"
   ]
  },
  {
   "cell_type": "code",
   "execution_count": 133,
   "metadata": {},
   "outputs": [
    {
     "name": "stdout",
     "output_type": "stream",
     "text": [
      "[3, '2', 9, '4', 15, '6', 21, '8', 27]\n"
     ]
    }
   ],
   "source": [
    "a_list = []\n",
    "for item in range(1, 10):\n",
    "    if item%2 == 0:\n",
    "        a_list.append(str(item))\n",
    "    else:\n",
    "        a_list.append(item * 3)\n",
    "    \n",
    "print(a_list)"
   ]
  },
  {
   "cell_type": "code",
   "execution_count": 136,
   "metadata": {},
   "outputs": [
    {
     "name": "stdout",
     "output_type": "stream",
     "text": [
      "13 нечётное\n"
     ]
    }
   ],
   "source": [
    "b = 13\n",
    "a = \"чётное\" if b % 2 == 0 else \"нечётное\"\n",
    "\n",
    "print(b, a)"
   ]
  },
  {
   "cell_type": "code",
   "execution_count": 146,
   "metadata": {
    "scrolled": true
   },
   "outputs": [
    {
     "name": "stdout",
     "output_type": "stream",
     "text": [
      "[0, 1, 2, 3, 4, 5, 6, 7, 8, 9]\n",
      "[0, 2, 4, 6, 8, 10, 12, 14, 16, 18]\n",
      "[0, 347376267711948586270712955026063723559809953996921692118372752023739388919808, 694752535423897172541425910052127447119619907993843384236745504047478777839616, 1042128803135845758812138865078191170679429861990765076355118256071218166759424, 1389505070847794345082851820104254894239239815987686768473491008094957555679232, 1736881338559742931353564775130318617799049769984608460591863760118696944599040, 2084257606271691517624277730156382341358859723981530152710236512142436333518848, 2431633873983640103894990685182446064918669677978451844828609264166175722438656, 2779010141695588690165703640208509788478479631975373536946982016189915111358464, 3126386409407537276436416595234573512038289585972295229065354768213654500278272, 3473762677119485862707129550260637235598099539969216921183727520237393889198080, 3821138944831434448977842505286700959157909493966138613302100272261133278117888, 4168515212543383035248555460312764682717719447963060305420473024284872667037696, 4515891480255331621519268415338828406277529401959981997538845776308612055957504, 4863267747967280207789981370364892129837339355956903689657218528332351444877312, 5210644015679228794060694325390955853397149309953825381775591280356090833797120, 5558020283391177380331407280417019576956959263950747073893964032379830222716928, 5905396551103125966602120235443083300516769217947668766012336784403569611636736, 6252772818815074552872833190469147024076579171944590458130709536427309000556544, 6600149086527023139143546145495210747636389125941512150249082288451048389476352, 6947525354238971725414259100521274471196199079938433842367455040474787778396160, 7294901621950920311684972055547338194756009033935355534485827792498527167315968, 7642277889662868897955685010573401918315818987932277226604200544522266556235776, 7989654157374817484226397965599465641875628941929198918722573296546005945155584, 8337030425086766070497110920625529365435438895926120610840946048569745334075392, 8684406692798714656767823875651593088995248849923042302959318800593484722995200, 9031782960510663243038536830677656812555058803919963995077691552617224111915008, 9379159228222611829309249785703720536114868757916885687196064304640963500834816, 9726535495934560415579962740729784259674678711913807379314437056664702889754624, 10073911763646509001850675695755847983234488665910729071432809808688442278674432, 10421288031358457588121388650781911706794298619907650763551182560712181667594240, 10768664299070406174392101605807975430354108573904572455669555312735921056514048, 11116040566782354760662814560834039153913918527901494147787928064759660445433856, 11463416834494303346933527515860102877473728481898415839906300816783399834353664]\n",
      "<generator object <genexpr> at 0x06A7DF40>\n",
      "range(0, 100)\n"
     ]
    }
   ],
   "source": [
    "print([item for item in range(10)])\n",
    "print([item*2 for item in range(10)])\n",
    "print([item*2**4**4 for item in range(100) if item % 3==0])\n",
    "print((item*2**4**4 for item in range(100) if item % 3==0))\n",
    "print(range(100))"
   ]
  },
  {
   "cell_type": "code",
   "execution_count": 147,
   "metadata": {
    "scrolled": true
   },
   "outputs": [
    {
     "name": "stdout",
     "output_type": "stream",
     "text": [
      "Игра \"Угадай число\" (для выхода нажми 0)\n",
      "Угадай число (от 1 до 10): 4\n",
      "Не угадал , правильное число больше.\n",
      "Угадай число (от 1 до 10): 6\n",
      "Не угадал , правильное число больше.\n",
      "Угадай число (от 1 до 10): 8\n",
      "Ты угадал!\n"
     ]
    }
   ],
   "source": [
    "from random import randint\n",
    "min_number = 1\n",
    "max_number = 10\n",
    "max_games = 3\n",
    "\n",
    "number = randint(min_number, max_number)\n",
    "\n",
    "print(\"Игра \\\"Угадай число\\\" (для выхода нажми 0)\")\n",
    "for game in range(max_games):\n",
    "    user_number = int(input(f\"Угадай число (от {min_number} до {max_number}): \"))\n",
    "    if user_number == 0:\n",
    "        print(f\"Пока! Правильное число было - {number}\")\n",
    "        break\n",
    "    if user_number > number:\n",
    "        print(\"Не угадал, правильное число меньше.\")\n",
    "    elif user_number < number:\n",
    "        print(\"Не угадал, правильное число больше.\")\n",
    "    if user_number == number:\n",
    "        print(\"Ты угадал!\")\n",
    "        break\n",
    "else:\n",
    "    print(f\"У тебя закончились попытки. Пока! Правильное число было - {number}\")"
   ]
  },
  {
   "cell_type": "code",
   "execution_count": null,
   "metadata": {},
   "outputs": [],
   "source": [
    "enumerate([\"a\", \"b\", \"c\"]) = ((0, \"a\"), (1, \"b\"), (2, \"c\"))\n",
    "a, b = (1, 2)\n",
    "a == 1\n",
    "b == 2"
   ]
  },
  {
   "cell_type": "markdown",
   "metadata": {},
   "source": [
    "# Задача Фибоначчи"
   ]
  },
  {
   "cell_type": "markdown",
   "metadata": {},
   "source": [
    "0 1 1 2 3 5 8 ..."
   ]
  },
  {
   "cell_type": "code",
   "execution_count": 156,
   "metadata": {},
   "outputs": [
    {
     "name": "stdout",
     "output_type": "stream",
     "text": [
      "[0, 1, 1, 2, 3, 5, 8, 13, 21, 34, 55, 89, 144, 233, 377, 610, 987, 1597, 2584, 4181, 6765, 10946, 17711, 28657, 46368, 75025, 121393, 196418, 317811, 514229, 832040, 1346269, 2178309, 3524578, 5702887, 9227465, 14930352, 24157817, 39088169, 63245986, 102334155, 165580141, 267914296, 433494437, 701408733, 1134903170, 1836311903, 2971215073, 4807526976, 7778742049, 12586269025, 20365011074, 32951280099, 53316291173, 86267571272, 139583862445, 225851433717, 365435296162, 591286729879, 956722026041, 1548008755920, 2504730781961, 4052739537881, 6557470319842, 10610209857723, 17167680177565, 27777890035288, 44945570212853, 72723460248141, 117669030460994, 190392490709135, 308061521170129, 498454011879264, 806515533049393, 1304969544928657, 2111485077978050, 3416454622906707, 5527939700884757, 8944394323791464, 14472334024676221, 23416728348467685, 37889062373143906, 61305790721611591, 99194853094755497, 160500643816367088, 259695496911122585, 420196140727489673, 679891637638612258, 1100087778366101931, 1779979416004714189, 2880067194370816120, 4660046610375530309, 7540113804746346429, 12200160415121876738, 19740274219868223167, 31940434634990099905, 51680708854858323072, 83621143489848422977, 135301852344706746049, 218922995834555169026, 354224848179261915075]\n",
      "[1.0, 2.0, 1.5, 1.6666666666666667, 1.6, 1.625, 1.6153846153846154, 1.619047619047619, 1.6176470588235294, 1.6181818181818182, 1.6179775280898876, 1.6180555555555556, 1.6180257510729614, 1.6180371352785146, 1.618032786885246, 1.618034447821682, 1.6180338134001253, 1.618034055727554, 1.6180339631667064, 1.6180339985218033, 1.618033985017358, 1.6180339901755971, 1.618033988205325, 1.618033988957902, 1.6180339886704431, 1.6180339887802426, 1.618033988738303, 1.6180339887543225, 1.6180339887482036, 1.6180339887505408, 1.6180339887496482, 1.618033988749989, 1.618033988749859, 1.6180339887499087, 1.6180339887498896, 1.618033988749897, 1.618033988749894, 1.6180339887498951, 1.6180339887498947, 1.618033988749895, 1.618033988749895, 1.618033988749895, 1.618033988749895, 1.618033988749895, 1.618033988749895, 1.618033988749895, 1.618033988749895, 1.618033988749895, 1.618033988749895, 1.618033988749895, 1.618033988749895, 1.618033988749895, 1.618033988749895, 1.618033988749895, 1.618033988749895, 1.618033988749895, 1.618033988749895, 1.618033988749895, 1.618033988749895, 1.618033988749895, 1.618033988749895, 1.618033988749895, 1.618033988749895, 1.618033988749895, 1.618033988749895, 1.618033988749895, 1.618033988749895, 1.618033988749895, 1.618033988749895, 1.618033988749895, 1.618033988749895, 1.618033988749895, 1.618033988749895, 1.618033988749895, 1.618033988749895, 1.618033988749895, 1.618033988749895, 1.618033988749895, 1.618033988749895, 1.618033988749895, 1.618033988749895, 1.618033988749895, 1.618033988749895, 1.618033988749895, 1.618033988749895, 1.618033988749895, 1.618033988749895, 1.618033988749895, 1.618033988749895, 1.618033988749895, 1.618033988749895, 1.618033988749895, 1.618033988749895, 1.618033988749895, 1.618033988749895, 1.618033988749895, 1.618033988749895, 1.618033988749895, 1.618033988749895]\n"
     ]
    }
   ],
   "source": [
    "fib_list = [0, 1]\n",
    "golden_list = []\n",
    "limit = 100\n",
    "for index in range(2, limit + 1):\n",
    "    fib_list.append(fib_list[-1] + fib_list[-2])\n",
    "    golden_list.append(fib_list[-1] / fib_list[-2])\n",
    "\n",
    "print(fib_list)\n",
    "print(golden_list)"
   ]
  }
 ],
 "metadata": {
  "kernelspec": {
   "display_name": "Python 3",
   "language": "python",
   "name": "python3"
  },
  "language_info": {
   "codemirror_mode": {
    "name": "ipython",
    "version": 3
   },
   "file_extension": ".py",
   "mimetype": "text/x-python",
   "name": "python",
   "nbconvert_exporter": "python",
   "pygments_lexer": "ipython3",
   "version": "3.8.2"
  }
 },
 "nbformat": 4,
 "nbformat_minor": 4
}
