{
 "cells": [
  {
   "cell_type": "markdown",
   "metadata": {},
   "source": [
    "# Угадай слово"
   ]
  },
  {
   "cell_type": "code",
   "execution_count": 1,
   "metadata": {},
   "outputs": [
    {
     "name": "stdout",
     "output_type": "stream",
     "text": [
      "Игра / Угадай слово!\n",
      "Угадай загаданное слово!о\n",
      "Такой буквы нету в слове!\n"
     ]
    }
   ],
   "source": [
    "word = \"солнце\"\n",
    "\n",
    "print(\"Игра / Угадай слово!\")\n",
    "\n",
    "user_letter = (input(f\"Угадай загаданное слово!\"))\n",
    "\n",
    "if user_letter == word[0]:\n",
    "    print(\"Правильно, это первая из 6-и букв\")\n",
    "elif user_letter != word[0]:\n",
    "    print(\"Такой буквы нету в слове!\")\n",
    "\n",
    "elif user_letter == word[1]:\n",
    "    print(\"Правильно, это вторая из 6-и букв\")\n",
    "elif user_letter != word[1]:\n",
    "    print(\"Такой буквы нету в слове!\")\n",
    " \n",
    "elif user_letter == word[2]:\n",
    "    print(\"Правильно, это третья из 6-и букв\")\n",
    "elif user_letter != word[2]:\n",
    "    print(\"Такой буквы нету в слове!\")\n",
    "\n",
    "elif user_letter == word[3]:\n",
    "    print(\"Правильно, это четвёртая из 6-и букв\")\n",
    "elif user_letter != word[3]:\n",
    "    print(\"Такой буквы нету в слове!\")\n",
    "\n",
    "elif user_letter == word[4]:\n",
    "    print(\"Правильно, это пятая из 6-и букв\")\n",
    "elif user_letter != word[4]:\n",
    "    print(\"Такой буквы нету в слове!\")\n",
    "\n",
    "elif user_letter == word[5]:\n",
    "    print(\"Правильно, это шестая из 6-и букв\")\n",
    "elif user_letter != word[5]:\n",
    "    print(\"Такой буквы нету в слове!\")\n",
    "\n",
    "elif user_letter == word:\n",
    "    print(\"Правильно! Это - загаданное слово.\")\n",
    "else:\n",
    "  print(\"Неправильно! Это - не загаданное слово.\")"
   ]
  },
  {
   "cell_type": "code",
   "execution_count": 34,
   "metadata": {},
   "outputs": [
    {
     "name": "stdout",
     "output_type": "stream",
     "text": [
      "Игра / Угадай слово!\n",
      "Введите букву или слово целиком, 0 - для выхода\n",
      "Загадано слово из 5 букв.\n",
      "* * * * *\n",
      "Введите букву: о\n",
      "Есть такая буква! - О\n",
      "* * * * О\n",
      "Введите букву: в\n",
      "Буквы В нет в этом слове\n",
      "* * * * О\n",
      "Введите букву: м\n",
      "Есть такая буква! - М\n",
      "М * * * О\n",
      "Введите букву: масло\n",
      "УРА! Вы угадали слово: МАСЛО\n"
     ]
    }
   ],
   "source": [
    "import random\n",
    "\n",
    "word = random.choice([\"дерево\", \"гитара\", \"масло\", \"машина\", \"велосипед\"]).lower()\n",
    "\n",
    "letters = len(word)\n",
    "\n",
    "print(\"Игра / Угадай слово!\")\n",
    "print(\"Введите букву или слово целиком, 0 - для выхода\")\n",
    "\n",
    "print(f\"Загадано слово из {letters} букв.\")\n",
    "letters_list = [\"*\"] * letters\n",
    "print(\" \".join(letters_list))\n",
    "\n",
    "used_letters = []\n",
    "\n",
    "while True:\n",
    "    user_letter = input(\"Введите букву: \").lower()\n",
    "    \n",
    "    if user_letter == '0':\n",
    "        print(\"До свиданья!\")\n",
    "        print(f\"Было загадано слово: {word.upper()}\")\n",
    "        break\n",
    "    \n",
    "    if len(user_letter) > 1:\n",
    "        if user_letter.strip() == word:\n",
    "            print(f\"УРА! Вы угадали слово: {word.upper()}\")\n",
    "            break\n",
    "        else:\n",
    "            print(\"НЕТ! Вы не угадали слово!\")\n",
    "            print(f\"Было загадано: {word.upper()}\")\n",
    "            break\n",
    "\n",
    "    if user_letter in used_letters:\n",
    "        print(f\"Буква {user_letter.upper()} уже была!\")\n",
    "        print(\" \".join(letters_list))\n",
    "    \n",
    "    elif user_letter in word:\n",
    "        print(f\"Есть такая буква! - {user_letter.upper()}\")\n",
    "        used_letters.append(user_letter)\n",
    "        letters = letters - word.count(user_letter)\n",
    "        cur_letters = word.count(user_letter)\n",
    "        letter_index = -1\n",
    "        for cur_letter in range(cur_letters):\n",
    "            letter_index = word.index(user_letter, letter_index + 1)\n",
    "            letters_list[letter_index] = user_letter.upper()\n",
    "        print(\" \".join(letters_list))\n",
    "        if letters == 0:\n",
    "            print(f\"УРА! Вы угадали всё слово: {word.upper()}\")\n",
    "            break\n",
    "        \n",
    "    else:\n",
    "        print(f\"Буквы {user_letter.upper()} нет в этом слове\")\n",
    "        print(\" \".join(letters_list))\n",
    "        used_letters.append(user_letter)"
   ]
  },
  {
   "cell_type": "code",
   "execution_count": 32,
   "metadata": {},
   "outputs": [
    {
     "name": "stdout",
     "output_type": "stream",
     "text": [
      "['BPF', 'LOG4', 'NV_MAGICCONST', 'RECIP_BPF', 'Random', 'SG_MAGICCONST', 'SystemRandom', 'TWOPI', '_Sequence', '_Set', '__all__', '__builtins__', '__cached__', '__doc__', '__file__', '__loader__', '__name__', '__package__', '__spec__', '_accumulate', '_acos', '_bisect', '_ceil', '_cos', '_e', '_exp', '_inst', '_log', '_os', '_pi', '_random', '_repeat', '_sha512', '_sin', '_sqrt', '_test', '_test_generator', '_urandom', '_warn', 'betavariate', 'choice', 'choices', 'expovariate', 'gammavariate', 'gauss', 'getrandbits', 'getstate', 'lognormvariate', 'normalvariate', 'paretovariate', 'randint', 'random', 'randrange', 'sample', 'seed', 'setstate', 'shuffle', 'triangular', 'uniform', 'vonmisesvariate', 'weibullvariate']\n",
      "Help on method choice in module random:\n",
      "\n",
      "choice(seq) method of random.Random instance\n",
      "    Choose a random element from a non-empty sequence.\n",
      "\n",
      "None\n",
      "2\n"
     ]
    }
   ],
   "source": [
    "import random\n",
    "print(dir(random))\n",
    "print(help(random.choice))\n",
    "\n",
    "print(random.choice([1, 2, 3, 4]))"
   ]
  },
  {
   "cell_type": "markdown",
   "metadata": {},
   "source": [
    "# Функции"
   ]
  },
  {
   "cell_type": "code",
   "execution_count": 39,
   "metadata": {},
   "outputs": [
    {
     "name": "stdout",
     "output_type": "stream",
     "text": [
      "Hello!\n",
      "1 2 3\n",
      "1-2-3\n",
      "Help on built-in function print in module builtins:\n",
      "\n",
      "print(...)\n",
      "    print(value, ..., sep=' ', end='\\n', file=sys.stdout, flush=False)\n",
      "    \n",
      "    Prints the values to a stream, or to sys.stdout by default.\n",
      "    Optional keyword arguments:\n",
      "    file:  a file-like object (stream); defaults to the current sys.stdout.\n",
      "    sep:   string inserted between values, default a space.\n",
      "    end:   string appended after the last value, default a newline.\n",
      "    flush: whether to forcibly flush the stream.\n",
      "\n",
      "None\n"
     ]
    }
   ],
   "source": [
    "print(\"Hello!\")\n",
    "print(1, 2, 3)\n",
    "print(1, 2, 3, sep=\"-\")\n",
    "# print(1, 2, 3, se=\"-\")\n",
    "\n",
    "print(help(print))"
   ]
  },
  {
   "cell_type": "code",
   "execution_count": 40,
   "metadata": {},
   "outputs": [
    {
     "name": "stdout",
     "output_type": "stream",
     "text": [
      "10\n"
     ]
    }
   ],
   "source": [
    "print(sum([1, 2, 3, 4]))"
   ]
  },
  {
   "cell_type": "code",
   "execution_count": 47,
   "metadata": {},
   "outputs": [
    {
     "name": "stdout",
     "output_type": "stream",
     "text": [
      "3\n"
     ]
    }
   ],
   "source": [
    "def summa_of_2_args(num_1, num_2):\n",
    "    summ = num_1 + num_2\n",
    "    return summ\n",
    "\n",
    "\n",
    "def summa_of_2_args(num_1, num_2):\n",
    "    return num_1 + num_2\n",
    "\n",
    "\n",
    "print(summa_of_2_args(1, 2))"
   ]
  },
  {
   "cell_type": "code",
   "execution_count": 42,
   "metadata": {},
   "outputs": [
    {
     "name": "stdout",
     "output_type": "stream",
     "text": [
      "3\n"
     ]
    }
   ],
   "source": [
    "def summa_of_2_args(num_1=1, num_2=1):\n",
    "    return num_1 + num_2\n",
    "\n",
    "print(summa_of_2_args(1, 2))"
   ]
  },
  {
   "cell_type": "code",
   "execution_count": 43,
   "metadata": {},
   "outputs": [
    {
     "name": "stdout",
     "output_type": "stream",
     "text": [
      "2\n"
     ]
    }
   ],
   "source": [
    "print(summa_of_2_args())"
   ]
  },
  {
   "cell_type": "code",
   "execution_count": 44,
   "metadata": {},
   "outputs": [
    {
     "name": "stdout",
     "output_type": "stream",
     "text": [
      "9\n"
     ]
    }
   ],
   "source": [
    "print(summa_of_2_args(8))"
   ]
  },
  {
   "cell_type": "markdown",
   "metadata": {},
   "source": [
    "# Распаковка"
   ]
  },
  {
   "cell_type": "code",
   "execution_count": 48,
   "metadata": {},
   "outputs": [],
   "source": [
    "a_int = 4\n",
    "a_tuple = (1, 2, 3)"
   ]
  },
  {
   "cell_type": "code",
   "execution_count": 49,
   "metadata": {},
   "outputs": [
    {
     "name": "stdout",
     "output_type": "stream",
     "text": [
      "1 2 3\n"
     ]
    }
   ],
   "source": [
    "a_int = a_tuple[0]\n",
    "b_int = a_tuple[1]\n",
    "c_int = a_tuple[2]\n",
    "print(a_int, b_int, c_int)"
   ]
  },
  {
   "cell_type": "code",
   "execution_count": 52,
   "metadata": {},
   "outputs": [
    {
     "name": "stdout",
     "output_type": "stream",
     "text": [
      "100 456 987\n"
     ]
    }
   ],
   "source": [
    "a_tuple = (100, 456, 987)\n",
    "a_int, b_int, c_int = a_tuple\n",
    "print(a_int, b_int, c_int)"
   ]
  },
  {
   "cell_type": "code",
   "execution_count": 56,
   "metadata": {},
   "outputs": [
    {
     "name": "stdout",
     "output_type": "stream",
     "text": [
      "100 [456, 987]\n",
      "100\n",
      "[456, 987]\n"
     ]
    }
   ],
   "source": [
    "a_int, *b_int = a_tuple\n",
    "print(a_int, b_int)\n",
    "print(a_int)\n",
    "print(b_int)"
   ]
  },
  {
   "cell_type": "code",
   "execution_count": 61,
   "metadata": {},
   "outputs": [
    {
     "name": "stdout",
     "output_type": "stream",
     "text": [
      "100\n",
      "[987, 'tr']\n",
      "qwer\n"
     ]
    }
   ],
   "source": [
    "a_tuple = (100, 456, 987, \"tr\", \"qwer\")\n",
    "a_int, c_int, *b_list, c_str = a_tuple\n",
    "print(a_int)\n",
    "print(b_list)\n",
    "print(c_str)"
   ]
  },
  {
   "cell_type": "code",
   "execution_count": 62,
   "metadata": {},
   "outputs": [
    {
     "name": "stdout",
     "output_type": "stream",
     "text": [
      "1 23 2 3 44\n"
     ]
    }
   ],
   "source": [
    "print(1,23,2,3,44)"
   ]
  },
  {
   "cell_type": "code",
   "execution_count": 66,
   "metadata": {},
   "outputs": [
    {
     "name": "stdout",
     "output_type": "stream",
     "text": [
      "Аргумент C = ()\n",
      "12\n",
      "Аргумент C = ()\n",
      "778\n",
      "Аргумент C = (32, 323, 54, 32, 54)\n",
      "7766\n"
     ]
    }
   ],
   "source": [
    "def my_func(a, b=8, *c):\n",
    "    print(f\"Аргумент C = {c}\")\n",
    "    return str(a) + str(b)\n",
    "\n",
    "\n",
    "print(my_func(1, 2))\n",
    "print(my_func(77))\n",
    "print(my_func(77, 66, 32, 323, 54, 32, 54))\n"
   ]
  },
  {
   "cell_type": "code",
   "execution_count": 70,
   "metadata": {},
   "outputs": [
    {
     "name": "stdout",
     "output_type": "stream",
     "text": [
      "0.5\n",
      "2.0\n",
      "0.5\n",
      "0.5\n"
     ]
    }
   ],
   "source": [
    "def my_div(a, b):\n",
    "    return a / b\n",
    "\n",
    "print(my_div(1, 2))\n",
    "print(my_div(2, 1))\n",
    "\n",
    "print(my_div(a=1, b=2))\n",
    "print(my_div(b=2, a=1))"
   ]
  },
  {
   "cell_type": "code",
   "execution_count": 71,
   "metadata": {},
   "outputs": [
    {
     "ename": "TypeError",
     "evalue": "my_div() got an unexpected keyword argument 'd'",
     "output_type": "error",
     "traceback": [
      "\u001b[1;31m---------------------------------------------------------------------------\u001b[0m",
      "\u001b[1;31mTypeError\u001b[0m                                 Traceback (most recent call last)",
      "\u001b[1;32m<ipython-input-71-42f8aa196ee3>\u001b[0m in \u001b[0;36m<module>\u001b[1;34m\u001b[0m\n\u001b[1;32m----> 1\u001b[1;33m \u001b[0mprint\u001b[0m\u001b[1;33m(\u001b[0m\u001b[0mmy_div\u001b[0m\u001b[1;33m(\u001b[0m\u001b[0mb\u001b[0m\u001b[1;33m=\u001b[0m\u001b[1;36m2\u001b[0m\u001b[1;33m,\u001b[0m \u001b[0md\u001b[0m\u001b[1;33m=\u001b[0m\u001b[1;36m1\u001b[0m\u001b[1;33m)\u001b[0m\u001b[1;33m)\u001b[0m\u001b[1;33m\u001b[0m\u001b[1;33m\u001b[0m\u001b[0m\n\u001b[0m",
      "\u001b[1;31mTypeError\u001b[0m: my_div() got an unexpected keyword argument 'd'"
     ]
    }
   ],
   "source": [
    "print(my_div(b=2, d=1))"
   ]
  },
  {
   "cell_type": "code",
   "execution_count": 72,
   "metadata": {},
   "outputs": [
    {
     "ename": "TypeError",
     "evalue": "my_func() got an unexpected keyword argument 'd'",
     "output_type": "error",
     "traceback": [
      "\u001b[1;31m---------------------------------------------------------------------------\u001b[0m",
      "\u001b[1;31mTypeError\u001b[0m                                 Traceback (most recent call last)",
      "\u001b[1;32m<ipython-input-72-b1f0b9aea121>\u001b[0m in \u001b[0;36m<module>\u001b[1;34m\u001b[0m\n\u001b[0;32m      3\u001b[0m     \u001b[1;32mreturn\u001b[0m \u001b[0mstr\u001b[0m\u001b[1;33m(\u001b[0m\u001b[0ma\u001b[0m\u001b[1;33m)\u001b[0m \u001b[1;33m+\u001b[0m \u001b[0mstr\u001b[0m\u001b[1;33m(\u001b[0m\u001b[0mb\u001b[0m\u001b[1;33m)\u001b[0m\u001b[1;33m\u001b[0m\u001b[1;33m\u001b[0m\u001b[0m\n\u001b[0;32m      4\u001b[0m \u001b[1;33m\u001b[0m\u001b[0m\n\u001b[1;32m----> 5\u001b[1;33m \u001b[0mprint\u001b[0m\u001b[1;33m(\u001b[0m\u001b[0mmy_func\u001b[0m\u001b[1;33m(\u001b[0m\u001b[1;36m3\u001b[0m\u001b[1;33m,\u001b[0m \u001b[0md\u001b[0m\u001b[1;33m=\u001b[0m\u001b[1;36m4\u001b[0m\u001b[1;33m)\u001b[0m\u001b[1;33m)\u001b[0m\u001b[1;33m\u001b[0m\u001b[1;33m\u001b[0m\u001b[0m\n\u001b[0m",
      "\u001b[1;31mTypeError\u001b[0m: my_func() got an unexpected keyword argument 'd'"
     ]
    }
   ],
   "source": [
    "def my_func(a, b=8, *c):\n",
    "    print(f\"Аргумент C = {c}\")\n",
    "    return str(a) + str(b)\n",
    "\n",
    "print(my_func(3, d=4))"
   ]
  },
  {
   "cell_type": "code",
   "execution_count": 74,
   "metadata": {},
   "outputs": [
    {
     "name": "stdout",
     "output_type": "stream",
     "text": [
      "Аргумент C = ()\n",
      "Аргумент KW = {'d': 4}\n",
      "38\n"
     ]
    }
   ],
   "source": [
    "def my_func(a, b=8, *c, **kw):\n",
    "    print(f\"Аргумент C = {c}\")\n",
    "    print(f\"Аргумент KW = {kw}\")\n",
    "    return str(a) + str(b)\n",
    "\n",
    "print(my_func(3, d=4))"
   ]
  },
  {
   "cell_type": "code",
   "execution_count": null,
   "metadata": {},
   "outputs": [],
   "source": []
  }
 ],
 "metadata": {
  "kernelspec": {
   "display_name": "Python 3",
   "language": "python",
   "name": "python3"
  },
  "language_info": {
   "codemirror_mode": {
    "name": "ipython",
    "version": 3
   },
   "file_extension": ".py",
   "mimetype": "text/x-python",
   "name": "python",
   "nbconvert_exporter": "python",
   "pygments_lexer": "ipython3",
   "version": "3.8.2"
  }
 },
 "nbformat": 4,
 "nbformat_minor": 4
}
